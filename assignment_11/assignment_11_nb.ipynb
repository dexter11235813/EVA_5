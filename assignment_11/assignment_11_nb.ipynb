{
  "nbformat": 4,
  "nbformat_minor": 0,
  "metadata": {
    "colab": {
      "name": "Untitled9.ipynb",
      "provenance": [],
      "collapsed_sections": [],
      "authorship_tag": "ABX9TyOuXJXWnLWGiwvI/0pNQ4S4",
      "include_colab_link": true
    },
    "kernelspec": {
      "name": "python3",
      "display_name": "Python 3"
    },
    "accelerator": "GPU"
  },
  "cells": [
    {
      "cell_type": "markdown",
      "metadata": {
        "id": "view-in-github",
        "colab_type": "text"
      },
      "source": [
        "<a href=\"https://colab.research.google.com/github/dexter11235813/EVA_5/blob/main/assignment_11/assignment_11_nb.ipynb\" target=\"_parent\"><img src=\"https://colab.research.google.com/assets/colab-badge.svg\" alt=\"Open In Colab\"/></a>"
      ]
    },
    {
      "cell_type": "code",
      "metadata": {
        "colab": {
          "base_uri": "https://localhost:8080/"
        },
        "id": "4CRAXPvp7PJ3",
        "outputId": "d36391ac-0919-4993-c9a5-4b55b2ed7064"
      },
      "source": [
        "\r\n",
        "from google.colab import drive\r\n",
        "from os.path import join\r\n",
        "\r\n",
        "drive.mount('/content/drive')"
      ],
      "execution_count": 3,
      "outputs": [
        {
          "output_type": "stream",
          "text": [
            "Mounted at /content/drive\n"
          ],
          "name": "stdout"
        }
      ]
    },
    {
      "cell_type": "code",
      "metadata": {
        "colab": {
          "base_uri": "https://localhost:8080/"
        },
        "id": "3eiz8y8_7UPl",
        "outputId": "bb3eab22-9684-4452-898a-7ce70720d5fa"
      },
      "source": [
        "%cd '/content/drive/My Drive/EVA5/EVA_5/assignment_11'\r\n"
      ],
      "execution_count": 15,
      "outputs": [
        {
          "output_type": "stream",
          "text": [
            "/content/drive/My Drive/EVA5/EVA_5/assignment_11\n"
          ],
          "name": "stdout"
        }
      ]
    },
    {
      "cell_type": "markdown",
      "metadata": {
        "id": "HQOm0VxeNLPq"
      },
      "source": [
        "MAIN CODE"
      ]
    },
    {
      "cell_type": "code",
      "metadata": {
        "colab": {
          "base_uri": "https://localhost:8080/"
        },
        "id": "_L9JiB2HNqyQ",
        "outputId": "27d007fc-6fe9-47f9-8e0c-10a6acb4d452"
      },
      "source": [
        "# !pip install pytorch-gradcam\r\n"
      ],
      "execution_count": 22,
      "outputs": [
        {
          "output_type": "stream",
          "text": [
            "Collecting pytorch-gradcam\n",
            "\u001b[?25l  Downloading https://files.pythonhosted.org/packages/e6/0a/55251f7cbea464581c6fb831813d38a41fdeb78f3dd8193522248cb98744/pytorch-gradcam-0.2.1.tar.gz (6.0MB)\n",
            "\u001b[K     |████████████████████████████████| 6.0MB 2.0MB/s \n",
            "\u001b[?25hRequirement already satisfied: opencv-python in /usr/local/lib/python3.7/dist-packages (from pytorch-gradcam) (4.1.2.30)\n",
            "Requirement already satisfied: numpy in /usr/local/lib/python3.7/dist-packages (from pytorch-gradcam) (1.19.5)\n",
            "Building wheels for collected packages: pytorch-gradcam\n",
            "  Building wheel for pytorch-gradcam (setup.py) ... \u001b[?25l\u001b[?25hdone\n",
            "  Created wheel for pytorch-gradcam: filename=pytorch_gradcam-0.2.1-cp37-none-any.whl size=5269 sha256=f7cfa72ef28dc634cb372ac43adf3559ab0bfb832ee48dfb3cb22d19bce86f8f\n",
            "  Stored in directory: /root/.cache/pip/wheels/e8/1e/35/d24150a078a90ce0ad093586814d4665e945466baa89907300\n",
            "Successfully built pytorch-gradcam\n",
            "Installing collected packages: pytorch-gradcam\n",
            "Successfully installed pytorch-gradcam-0.2.1\n"
          ],
          "name": "stdout"
        }
      ]
    },
    {
      "cell_type": "code",
      "metadata": {
        "colab": {
          "base_uri": "https://localhost:8080/"
        },
        "id": "6ns5nQbtMYZ7",
        "outputId": "75f5536a-06e7-41c6-dd4c-6077e5b32801"
      },
      "source": [
        "%cd '/content/drive/My Drive/EVA5/EVA_5/assignment_11'\r\n",
        "import importlib\r\n",
        "import torch\r\n",
        "import torch.nn as nn\r\n",
        "import torch.optim as optim\r\n",
        "import dataloader\r\n",
        "from torchsummary import summary\r\n",
        "import config\r\n",
        "import model\r\n",
        "from torch.optim.lr_scheduler import OneCycleLR\r\n",
        "import show_images_from_batch\r\n",
        "import cyclical_graph \r\n",
        "import lr_test\r\n",
        "importlib.reload(model)\r\n",
        "importlib.reload(config)\r\n",
        "importlib.reload(dataloader)\r\n",
        "importlib.reload(show_images_from_batch)\r\n",
        "importlib.reload(lr_test)\r\n",
        "importlib.reload(cyclical_graph)\r\n",
        "import warnings\r\n",
        "warnings.filterwarnings('ignore')"
      ],
      "execution_count": 366,
      "outputs": [
        {
          "output_type": "stream",
          "text": [
            "/content/drive/My Drive/EVA5/EVA_5/assignment_11\n"
          ],
          "name": "stdout"
        }
      ]
    },
    {
      "cell_type": "code",
      "metadata": {
        "colab": {
          "base_uri": "https://localhost:8080/",
          "height": 265
        },
        "id": "EUQ4Lvl--bMh",
        "outputId": "3e21e697-a72e-40c4-9b3b-5939fef26524"
      },
      "source": [
        "cyclical_graph.cyclical_plot(100, ymax=0.5, ymin=0.2, triangle_width=20)"
      ],
      "execution_count": 367,
      "outputs": [
        {
          "output_type": "display_data",
          "data": {
            "image/png": "[encoded data removed]",
            "text/plain": [
              "<Figure size 432x288 with 1 Axes>"
            ]
          },
          "metadata": {
            "tags": [],
            "needs_background": "light"
          }
        }
      ]
    },
    {
      "cell_type": "code",
      "metadata": {
        "colab": {
          "base_uri": "https://localhost:8080/"
        },
        "id": "gOQJ2wmWMYX1",
        "outputId": "cdca716a-fd35-4047-82ae-48ac43466e4b"
      },
      "source": [
        "train_loader, test_loader = dataloader.get_iterators()\r\n"
      ],
      "execution_count": 355,
      "outputs": [
        {
          "output_type": "stream",
          "text": [
            "Files already downloaded and verified\n",
            "Files already downloaded and verified\n"
          ],
          "name": "stdout"
        }
      ]
    },
    {
      "cell_type": "code",
      "metadata": {
        "colab": {
          "base_uri": "https://localhost:8080/",
          "height": 615
        },
        "id": "dBjr90LNO1LH",
        "outputId": "5d1c6e97-bfa9-4398-9c62-4b201711768b"
      },
      "source": [
        "show_images_from_batch.get_images(train_loader)\r\n"
      ],
      "execution_count": 356,
      "outputs": [
        {
          "output_type": "stream",
          "text": [
            "Clipping input data to the valid range for imshow with RGB data ([0..1] for floats or [0..255] for integers).\n",
            "Clipping input data to the valid range for imshow with RGB data ([0..1] for floats or [0..255] for integers).\n",
            "Clipping input data to the valid range for imshow with RGB data ([0..1] for floats or [0..255] for integers).\n",
            "Clipping input data to the valid range for imshow with RGB data ([0..1] for floats or [0..255] for integers).\n",
            "Clipping input data to the valid range for imshow with RGB data ([0..1] for floats or [0..255] for integers).\n",
            "Clipping input data to the valid range for imshow with RGB data ([0..1] for floats or [0..255] for integers).\n",
            "Clipping input data to the valid range for imshow with RGB data ([0..1] for floats or [0..255] for integers).\n",
            "Clipping input data to the valid range for imshow with RGB data ([0..1] for floats or [0..255] for integers).\n",
            "Clipping input data to the valid range for imshow with RGB data ([0..1] for floats or [0..255] for integers).\n",
            "Clipping input data to the valid range for imshow with RGB data ([0..1] for floats or [0..255] for integers).\n"
          ],
          "name": "stderr"
        },
        {
          "output_type": "display_data",
          "data": {
            "image/png": "[encoded data removed]",
            "text/plain": [
              "<Figure size 1080x576 with 10 Axes>"
            ]
          },
          "metadata": {
            "tags": [],
            "needs_background": "light"
          }
        }
      ]
    },
    {
      "cell_type": "code",
      "metadata": {
        "id": "VkXKxt_FO1I3"
      },
      "source": [
        "\r\n"
      ],
      "execution_count": 248,
      "outputs": []
    },
    {
      "cell_type": "markdown",
      "metadata": {
        "id": "RMe_rx8rPQm1"
      },
      "source": [
        "##**LR Range Test**"
      ]
    },
    {
      "cell_type": "code",
      "metadata": {
        "id": "4PH42HQfUHCc"
      },
      "source": [
        "net = model.CustomNet().to(config.DEVICE)\r\n"
      ],
      "execution_count": 331,
      "outputs": []
    },
    {
      "cell_type": "code",
      "metadata": {
        "id": "Tuhule8hO1Gr"
      },
      "source": [
        "max_lr = 0.1\r\n",
        "min_lr = 0.001\r\n",
        "\r\n",
        "epoch = 20\r\n",
        "criterion = nn.CrossEntropyLoss()\r\n",
        "test_lr = lr_test.LRRangeTest(max_lr=max_lr, min_lr=min_lr, model=net, epochs=epoch, criterion=criterion, trainloader=train_loader)"
      ],
      "execution_count": 276,
      "outputs": []
    },
    {
      "cell_type": "code",
      "metadata": {
        "colab": {
          "base_uri": "https://localhost:8080/"
        },
        "id": "MnXZ2iZdO1Ed",
        "outputId": "1ae320a9-74d2-41f6-8ea4-66931c5eeb88"
      },
      "source": [
        "%%time\r\n",
        "test_lr.range_lr_test()\r\n"
      ],
      "execution_count": 277,
      "outputs": [
        {
          "output_type": "stream",
          "text": [
            "\r  0%|          | 0/98 [00:00<?, ?it/s]"
          ],
          "name": "stderr"
        },
        {
          "output_type": "stream",
          "text": [
            "step size: 0.00495\n",
            "current_lr: 0.001\n"
          ],
          "name": "stdout"
        },
        {
          "output_type": "stream",
          "text": [
            "100%|██████████| 98/98 [00:34<00:00,  2.88it/s]\n",
            "  0%|          | 0/98 [00:00<?, ?it/s]"
          ],
          "name": "stderr"
        },
        {
          "output_type": "stream",
          "text": [
            "train_accuracy: 24.82\n",
            "current_lr: 0.00595\n"
          ],
          "name": "stdout"
        },
        {
          "output_type": "stream",
          "text": [
            "100%|██████████| 98/98 [00:34<00:00,  2.85it/s]\n",
            "  0%|          | 0/98 [00:00<?, ?it/s]"
          ],
          "name": "stderr"
        },
        {
          "output_type": "stream",
          "text": [
            "train_accuracy: 35.012\n",
            "current_lr: 0.0109\n"
          ],
          "name": "stdout"
        },
        {
          "output_type": "stream",
          "text": [
            "100%|██████████| 98/98 [00:33<00:00,  2.89it/s]\n",
            "  0%|          | 0/98 [00:00<?, ?it/s]"
          ],
          "name": "stderr"
        },
        {
          "output_type": "stream",
          "text": [
            "train_accuracy: 33.348\n",
            "current_lr: 0.01585\n"
          ],
          "name": "stdout"
        },
        {
          "output_type": "stream",
          "text": [
            "100%|██████████| 98/98 [00:34<00:00,  2.84it/s]\n",
            "  0%|          | 0/98 [00:00<?, ?it/s]"
          ],
          "name": "stderr"
        },
        {
          "output_type": "stream",
          "text": [
            "train_accuracy: 33.704\n",
            "current_lr: 0.0208\n"
          ],
          "name": "stdout"
        },
        {
          "output_type": "stream",
          "text": [
            "100%|██████████| 98/98 [00:34<00:00,  2.87it/s]\n",
            "  0%|          | 0/98 [00:00<?, ?it/s]"
          ],
          "name": "stderr"
        },
        {
          "output_type": "stream",
          "text": [
            "train_accuracy: 31.646\n",
            "current_lr: 0.02575\n"
          ],
          "name": "stdout"
        },
        {
          "output_type": "stream",
          "text": [
            "100%|██████████| 98/98 [00:34<00:00,  2.85it/s]\n",
            "  0%|          | 0/98 [00:00<?, ?it/s]"
          ],
          "name": "stderr"
        },
        {
          "output_type": "stream",
          "text": [
            "train_accuracy: 29.594\n",
            "current_lr: 0.030699999999999998\n"
          ],
          "name": "stdout"
        },
        {
          "output_type": "stream",
          "text": [
            "100%|██████████| 98/98 [00:34<00:00,  2.88it/s]\n",
            "  0%|          | 0/98 [00:00<?, ?it/s]"
          ],
          "name": "stderr"
        },
        {
          "output_type": "stream",
          "text": [
            "train_accuracy: 27.468\n",
            "current_lr: 0.03565\n"
          ],
          "name": "stdout"
        },
        {
          "output_type": "stream",
          "text": [
            "100%|██████████| 98/98 [00:34<00:00,  2.88it/s]\n",
            "  0%|          | 0/98 [00:00<?, ?it/s]"
          ],
          "name": "stderr"
        },
        {
          "output_type": "stream",
          "text": [
            "train_accuracy: 29.508\n",
            "current_lr: 0.040600000000000004\n"
          ],
          "name": "stdout"
        },
        {
          "output_type": "stream",
          "text": [
            "100%|██████████| 98/98 [00:34<00:00,  2.86it/s]\n",
            "  0%|          | 0/98 [00:00<?, ?it/s]"
          ],
          "name": "stderr"
        },
        {
          "output_type": "stream",
          "text": [
            "train_accuracy: 26.898\n",
            "current_lr: 0.04555000000000001\n"
          ],
          "name": "stdout"
        },
        {
          "output_type": "stream",
          "text": [
            "100%|██████████| 98/98 [00:34<00:00,  2.87it/s]\n",
            "  0%|          | 0/98 [00:00<?, ?it/s]"
          ],
          "name": "stderr"
        },
        {
          "output_type": "stream",
          "text": [
            "train_accuracy: 25.104\n",
            "current_lr: 0.05050000000000001\n"
          ],
          "name": "stdout"
        },
        {
          "output_type": "stream",
          "text": [
            "100%|██████████| 98/98 [00:34<00:00,  2.86it/s]\n",
            "  0%|          | 0/98 [00:00<?, ?it/s]"
          ],
          "name": "stderr"
        },
        {
          "output_type": "stream",
          "text": [
            "train_accuracy: 24.09\n",
            "current_lr: 0.05545000000000001\n"
          ],
          "name": "stdout"
        },
        {
          "output_type": "stream",
          "text": [
            "100%|██████████| 98/98 [00:34<00:00,  2.88it/s]\n",
            "  0%|          | 0/98 [00:00<?, ?it/s]"
          ],
          "name": "stderr"
        },
        {
          "output_type": "stream",
          "text": [
            "train_accuracy: 21.758\n",
            "current_lr: 0.060400000000000016\n"
          ],
          "name": "stdout"
        },
        {
          "output_type": "stream",
          "text": [
            "100%|██████████| 98/98 [00:34<00:00,  2.86it/s]\n",
            "  0%|          | 0/98 [00:00<?, ?it/s]"
          ],
          "name": "stderr"
        },
        {
          "output_type": "stream",
          "text": [
            "train_accuracy: 21.6\n",
            "current_lr: 0.06535000000000002\n"
          ],
          "name": "stdout"
        },
        {
          "output_type": "stream",
          "text": [
            "100%|██████████| 98/98 [00:34<00:00,  2.86it/s]\n",
            "  0%|          | 0/98 [00:00<?, ?it/s]"
          ],
          "name": "stderr"
        },
        {
          "output_type": "stream",
          "text": [
            "train_accuracy: 24.704\n",
            "current_lr: 0.07030000000000002\n"
          ],
          "name": "stdout"
        },
        {
          "output_type": "stream",
          "text": [
            "100%|██████████| 98/98 [00:34<00:00,  2.86it/s]\n",
            "  0%|          | 0/98 [00:00<?, ?it/s]"
          ],
          "name": "stderr"
        },
        {
          "output_type": "stream",
          "text": [
            "train_accuracy: 20.076\n",
            "current_lr: 0.07525000000000001\n"
          ],
          "name": "stdout"
        },
        {
          "output_type": "stream",
          "text": [
            "100%|██████████| 98/98 [00:34<00:00,  2.87it/s]\n",
            "  0%|          | 0/98 [00:00<?, ?it/s]"
          ],
          "name": "stderr"
        },
        {
          "output_type": "stream",
          "text": [
            "train_accuracy: 21.976\n",
            "current_lr: 0.08020000000000001\n"
          ],
          "name": "stdout"
        },
        {
          "output_type": "stream",
          "text": [
            "100%|██████████| 98/98 [00:34<00:00,  2.86it/s]\n",
            "  0%|          | 0/98 [00:00<?, ?it/s]"
          ],
          "name": "stderr"
        },
        {
          "output_type": "stream",
          "text": [
            "train_accuracy: 20.2\n",
            "current_lr: 0.08515\n"
          ],
          "name": "stdout"
        },
        {
          "output_type": "stream",
          "text": [
            "100%|██████████| 98/98 [00:34<00:00,  2.87it/s]\n",
            "  0%|          | 0/98 [00:00<?, ?it/s]"
          ],
          "name": "stderr"
        },
        {
          "output_type": "stream",
          "text": [
            "train_accuracy: 22.28\n",
            "current_lr: 0.0901\n"
          ],
          "name": "stdout"
        },
        {
          "output_type": "stream",
          "text": [
            "100%|██████████| 98/98 [00:34<00:00,  2.86it/s]\n",
            "  0%|          | 0/98 [00:00<?, ?it/s]"
          ],
          "name": "stderr"
        },
        {
          "output_type": "stream",
          "text": [
            "train_accuracy: 21.498\n",
            "current_lr: 0.09505\n"
          ],
          "name": "stdout"
        },
        {
          "output_type": "stream",
          "text": [
            "100%|██████████| 98/98 [00:34<00:00,  2.86it/s]"
          ],
          "name": "stderr"
        },
        {
          "output_type": "stream",
          "text": [
            "train_accuracy: 18.55\n",
            "best training accuracy: 35.012\n",
            "best lr: 0.00595\n",
            "CPU times: user 7min 50s, sys: 3min 34s, total: 11min 24s\n",
            "Wall time: 11min 24s\n"
          ],
          "name": "stdout"
        },
        {
          "output_type": "stream",
          "text": [
            "\n"
          ],
          "name": "stderr"
        }
      ]
    },
    {
      "cell_type": "code",
      "metadata": {
        "colab": {
          "base_uri": "https://localhost:8080/",
          "height": 295
        },
        "id": "7cOt_nNzO1Cg",
        "outputId": "26bc531f-9f10-4dc4-ca52-4843c7a6e324"
      },
      "source": [
        "test_lr.plot()"
      ],
      "execution_count": 278,
      "outputs": [
        {
          "output_type": "display_data",
          "data": {
            "image/png": "[encoded data removed]",
            "text/plain": [
              "<Figure size 432x288 with 1 Axes>"
            ]
          },
          "metadata": {
            "tags": [],
            "needs_background": "light"
          }
        }
      ]
    },
    {
      "cell_type": "code",
      "metadata": {
        "id": "3CxcsRNRO1AI"
      },
      "source": [
        "net = model.CustomNet().to(config.DEVICE)\r\n",
        "criterion = nn.NLLLoss().to(config.DEVICE)\r\n",
        "optimizer = optim.SGD(net.parameters(), lr=0.01, weight_decay=0.05, momentum=0.9)\r\n",
        "scheduler = OneCycleLR(optimizer, max_lr= 0.005, pct_start = 5/24, total_steps=config.TOTAL_STEPS, div_factor=10)\r\n"
      ],
      "execution_count": 363,
      "outputs": []
    },
    {
      "cell_type": "code",
      "metadata": {
        "colab": {
          "base_uri": "https://localhost:8080/"
        },
        "id": "OOpWQVS0O09p",
        "outputId": "29260a9c-0c36-4b09-ef81-6980e7549d09"
      },
      "source": [
        "model_run_OCL = model.Trial(\r\n",
        "    name=\"first_run_OCL\",\r\n",
        "    model=net,\r\n",
        "    args={\r\n",
        "        \"epochs\": config.EPOCH,\r\n",
        "        \"train_loader\": train_loader,\r\n",
        "        \"test_loader\": test_loader,\r\n",
        "        \"optimizer\": optimizer,\r\n",
        "        \"loss_fn\": criterion,\r\n",
        "        \"scheduler\": scheduler\r\n",
        "    }\r\n",
        ")\r\n",
        "\r\n",
        "model_run_OCL.run()\r\n",
        "print(\"Done!\")"
      ],
      "execution_count": 364,
      "outputs": [
        {
          "output_type": "stream",
          "text": [
            "\r  0%|          | 0/98 [00:00<?, ?it/s]"
          ],
          "name": "stderr"
        },
        {
          "output_type": "stream",
          "text": [
            "1 / 24\n",
            "current_lr: 0.0004999999999999996\n"
          ],
          "name": "stdout"
        },
        {
          "output_type": "stream",
          "text": [
            "100%|██████████| 98/98 [00:34<00:00,  2.87it/s]\n",
            "  5%|▌         | 1/20 [00:00<00:02,  8.68it/s]"
          ],
          "name": "stderr"
        },
        {
          "output_type": "stream",
          "text": [
            " Training loss = 0.003549886168912053, Training Accuracy : 35.212\n"
          ],
          "name": "stdout"
        },
        {
          "output_type": "stream",
          "text": [
            "100%|██████████| 20/20 [00:02<00:00,  8.31it/s]\n",
            "  0%|          | 0/98 [00:00<?, ?it/s]"
          ],
          "name": "stderr"
        },
        {
          "output_type": "stream",
          "text": [
            " Test loss = 1.3925843017578126, Test Accuracy : 49.51\n",
            "2 / 24\n",
            "current_lr: 0.001159009742330268\n"
          ],
          "name": "stdout"
        },
        {
          "output_type": "stream",
          "text": [
            "100%|██████████| 98/98 [00:33<00:00,  2.90it/s]\n",
            "  5%|▌         | 1/20 [00:00<00:02,  8.53it/s]"
          ],
          "name": "stderr"
        },
        {
          "output_type": "stream",
          "text": [
            " Training loss = 0.0024320250377058983, Training Accuracy : 55.428\n"
          ],
          "name": "stdout"
        },
        {
          "output_type": "stream",
          "text": [
            "100%|██████████| 20/20 [00:02<00:00,  8.67it/s]\n",
            "  0%|          | 0/98 [00:00<?, ?it/s]"
          ],
          "name": "stderr"
        },
        {
          "output_type": "stream",
          "text": [
            " Test loss = 1.1524960540771485, Test Accuracy : 59.16\n",
            "3 / 24\n",
            "current_lr: 0.00275\n"
          ],
          "name": "stdout"
        },
        {
          "output_type": "stream",
          "text": [
            "100%|██████████| 98/98 [00:33<00:00,  2.89it/s]\n",
            "  5%|▌         | 1/20 [00:00<00:02,  8.48it/s]"
          ],
          "name": "stderr"
        },
        {
          "output_type": "stream",
          "text": [
            " Training loss = 0.0019274438964203, Training Accuracy : 65.406\n"
          ],
          "name": "stdout"
        },
        {
          "output_type": "stream",
          "text": [
            "100%|██████████| 20/20 [00:02<00:00,  8.50it/s]\n",
            "  0%|          | 0/98 [00:00<?, ?it/s]"
          ],
          "name": "stderr"
        },
        {
          "output_type": "stream",
          "text": [
            " Test loss = 0.917437857055664, Test Accuracy : 67.76\n",
            "4 / 24\n",
            "current_lr: 0.004340990257669732\n"
          ],
          "name": "stdout"
        },
        {
          "output_type": "stream",
          "text": [
            "100%|██████████| 98/98 [00:33<00:00,  2.90it/s]\n",
            "  5%|▌         | 1/20 [00:00<00:02,  7.99it/s]"
          ],
          "name": "stderr"
        },
        {
          "output_type": "stream",
          "text": [
            " Training loss = 0.001570757245644927, Training Accuracy : 72.102\n"
          ],
          "name": "stdout"
        },
        {
          "output_type": "stream",
          "text": [
            "100%|██████████| 20/20 [00:02<00:00,  8.51it/s]\n",
            "  0%|          | 0/98 [00:00<?, ?it/s]"
          ],
          "name": "stderr"
        },
        {
          "output_type": "stream",
          "text": [
            " Test loss = 0.7791926406860351, Test Accuracy : 72.91\n",
            "5 / 24\n",
            "current_lr: 0.005\n"
          ],
          "name": "stdout"
        },
        {
          "output_type": "stream",
          "text": [
            "100%|██████████| 98/98 [00:33<00:00,  2.89it/s]\n",
            "  5%|▌         | 1/20 [00:00<00:02,  8.45it/s]"
          ],
          "name": "stderr"
        },
        {
          "output_type": "stream",
          "text": [
            " Training loss = 0.0013028094545006752, Training Accuracy : 77.366\n"
          ],
          "name": "stdout"
        },
        {
          "output_type": "stream",
          "text": [
            "100%|██████████| 20/20 [00:02<00:00,  8.63it/s]\n",
            "  0%|          | 0/98 [00:00<?, ?it/s]"
          ],
          "name": "stderr"
        },
        {
          "output_type": "stream",
          "text": [
            " Test loss = 0.7545151733398437, Test Accuracy : 73.46\n",
            "6 / 24\n",
            "current_lr: 0.004965903599474221\n"
          ],
          "name": "stdout"
        },
        {
          "output_type": "stream",
          "text": [
            "100%|██████████| 98/98 [00:33<00:00,  2.88it/s]\n",
            "  5%|▌         | 1/20 [00:00<00:02,  8.53it/s]"
          ],
          "name": "stderr"
        },
        {
          "output_type": "stream",
          "text": [
            " Training loss = 0.0011258048471063375, Training Accuracy : 80.674\n"
          ],
          "name": "stdout"
        },
        {
          "output_type": "stream",
          "text": [
            "100%|██████████| 20/20 [00:02<00:00,  8.59it/s]\n",
            "  0%|          | 0/98 [00:00<?, ?it/s]"
          ],
          "name": "stderr"
        },
        {
          "output_type": "stream",
          "text": [
            " Test loss = 0.642323014831543, Test Accuracy : 77.85\n",
            "7 / 24\n",
            "current_lr: 0.004864544458820544\n"
          ],
          "name": "stdout"
        },
        {
          "output_type": "stream",
          "text": [
            "100%|██████████| 98/98 [00:33<00:00,  2.88it/s]\n",
            "  5%|▌         | 1/20 [00:00<00:02,  8.60it/s]"
          ],
          "name": "stderr"
        },
        {
          "output_type": "stream",
          "text": [
            " Training loss = 0.0009987319353967905, Training Accuracy : 83.036\n"
          ],
          "name": "stdout"
        },
        {
          "output_type": "stream",
          "text": [
            "100%|██████████| 20/20 [00:02<00:00,  8.33it/s]\n",
            "  0%|          | 0/98 [00:00<?, ?it/s]"
          ],
          "name": "stderr"
        },
        {
          "output_type": "stream",
          "text": [
            " Test loss = 0.6352622940063477, Test Accuracy : 78.79\n",
            "8 / 24\n",
            "current_lr: 0.0046986873911724425\n"
          ],
          "name": "stdout"
        },
        {
          "output_type": "stream",
          "text": [
            "100%|██████████| 98/98 [00:33<00:00,  2.90it/s]\n",
            "  5%|▌         | 1/20 [00:00<00:02,  8.55it/s]"
          ],
          "name": "stderr"
        },
        {
          "output_type": "stream",
          "text": [
            " Training loss = 0.0008987308829091489, Training Accuracy : 85.166\n"
          ],
          "name": "stdout"
        },
        {
          "output_type": "stream",
          "text": [
            "100%|██████████| 20/20 [00:02<00:00,  8.50it/s]\n",
            "  0%|          | 0/98 [00:00<?, ?it/s]"
          ],
          "name": "stderr"
        },
        {
          "output_type": "stream",
          "text": [
            " Test loss = 0.611501237487793, Test Accuracy : 79.29\n",
            "9 / 24\n",
            "current_lr: 0.004472856544978249\n"
          ],
          "name": "stdout"
        },
        {
          "output_type": "stream",
          "text": [
            "100%|██████████| 98/98 [00:34<00:00,  2.87it/s]\n",
            "  5%|▌         | 1/20 [00:00<00:02,  8.77it/s]"
          ],
          "name": "stderr"
        },
        {
          "output_type": "stream",
          "text": [
            " Training loss = 0.0008169218199327588, Training Accuracy : 86.878\n"
          ],
          "name": "stdout"
        },
        {
          "output_type": "stream",
          "text": [
            "100%|██████████| 20/20 [00:02<00:00,  8.43it/s]\n",
            "  0%|          | 0/98 [00:00<?, ?it/s]"
          ],
          "name": "stderr"
        },
        {
          "output_type": "stream",
          "text": [
            " Test loss = 0.6316714767456054, Test Accuracy : 78.51\n",
            "10 / 24\n",
            "current_lr: 0.004193211997025063\n"
          ],
          "name": "stdout"
        },
        {
          "output_type": "stream",
          "text": [
            "100%|██████████| 98/98 [00:33<00:00,  2.88it/s]\n",
            "  5%|▌         | 1/20 [00:00<00:02,  8.41it/s]"
          ],
          "name": "stderr"
        },
        {
          "output_type": "stream",
          "text": [
            " Training loss = 0.0007571322494186461, Training Accuracy : 87.984\n"
          ],
          "name": "stdout"
        },
        {
          "output_type": "stream",
          "text": [
            "100%|██████████| 20/20 [00:02<00:00,  8.56it/s]\n",
            "  0%|          | 0/98 [00:00<?, ?it/s]"
          ],
          "name": "stderr"
        },
        {
          "output_type": "stream",
          "text": [
            " Test loss = 0.7687679275512695, Test Accuracy : 73.98\n",
            "11 / 24\n",
            "current_lr: 0.0038673817216021153\n"
          ],
          "name": "stdout"
        },
        {
          "output_type": "stream",
          "text": [
            "100%|██████████| 98/98 [00:33<00:00,  2.88it/s]\n",
            "  5%|▌         | 1/20 [00:00<00:02,  8.51it/s]"
          ],
          "name": "stderr"
        },
        {
          "output_type": "stream",
          "text": [
            " Training loss = 0.0007212096243165433, Training Accuracy : 88.856\n"
          ],
          "name": "stdout"
        },
        {
          "output_type": "stream",
          "text": [
            "100%|██████████| 20/20 [00:02<00:00,  8.34it/s]\n",
            "  0%|          | 0/98 [00:00<?, ?it/s]"
          ],
          "name": "stderr"
        },
        {
          "output_type": "stream",
          "text": [
            " Test loss = 0.5094999053955078, Test Accuracy : 83.24\n",
            "12 / 24\n",
            "current_lr: 0.003504253519246808\n"
          ],
          "name": "stdout"
        },
        {
          "output_type": "stream",
          "text": [
            "100%|██████████| 98/98 [00:33<00:00,  2.89it/s]\n",
            "  5%|▌         | 1/20 [00:00<00:02,  8.62it/s]"
          ],
          "name": "stderr"
        },
        {
          "output_type": "stream",
          "text": [
            " Training loss = 0.0006602677167393267, Training Accuracy : 90.068\n"
          ],
          "name": "stdout"
        },
        {
          "output_type": "stream",
          "text": [
            "100%|██████████| 20/20 [00:02<00:00,  8.53it/s]\n",
            "  0%|          | 0/98 [00:00<?, ?it/s]"
          ],
          "name": "stderr"
        },
        {
          "output_type": "stream",
          "text": [
            " Test loss = 0.6133433654785156, Test Accuracy : 78.56\n",
            "13 / 24\n",
            "current_lr: 0.0031137325807148197\n"
          ],
          "name": "stdout"
        },
        {
          "output_type": "stream",
          "text": [
            "100%|██████████| 98/98 [00:33<00:00,  2.90it/s]\n",
            "  5%|▌         | 1/20 [00:00<00:02,  8.64it/s]"
          ],
          "name": "stderr"
        },
        {
          "output_type": "stream",
          "text": [
            " Training loss = 0.0006187044782564044, Training Accuracy : 91.052\n"
          ],
          "name": "stdout"
        },
        {
          "output_type": "stream",
          "text": [
            "100%|██████████| 20/20 [00:02<00:00,  8.72it/s]\n",
            "  0%|          | 0/98 [00:00<?, ?it/s]"
          ],
          "name": "stderr"
        },
        {
          "output_type": "stream",
          "text": [
            " Test loss = 0.4660382827758789, Test Accuracy : 84.6\n",
            "14 / 24\n",
            "current_lr: 0.0027064712991971946\n"
          ],
          "name": "stdout"
        },
        {
          "output_type": "stream",
          "text": [
            "100%|██████████| 98/98 [00:33<00:00,  2.88it/s]\n",
            "  5%|▌         | 1/20 [00:00<00:02,  8.51it/s]"
          ],
          "name": "stderr"
        },
        {
          "output_type": "stream",
          "text": [
            " Training loss = 0.0005823560059070587, Training Accuracy : 91.842\n"
          ],
          "name": "stdout"
        },
        {
          "output_type": "stream",
          "text": [
            "100%|██████████| 20/20 [00:02<00:00,  8.22it/s]\n",
            "  0%|          | 0/98 [00:00<?, ?it/s]"
          ],
          "name": "stderr"
        },
        {
          "output_type": "stream",
          "text": [
            " Test loss = 0.43873256912231445, Test Accuracy : 86.36\n",
            "15 / 24\n",
            "current_lr: 0.0022935787008028065\n"
          ],
          "name": "stdout"
        },
        {
          "output_type": "stream",
          "text": [
            "100%|██████████| 98/98 [00:33<00:00,  2.89it/s]\n",
            "  5%|▌         | 1/20 [00:00<00:02,  8.53it/s]"
          ],
          "name": "stderr"
        },
        {
          "output_type": "stream",
          "text": [
            " Training loss = 0.0005477802478708327, Training Accuracy : 92.642\n"
          ],
          "name": "stdout"
        },
        {
          "output_type": "stream",
          "text": [
            "100%|██████████| 20/20 [00:02<00:00,  8.55it/s]\n",
            "  0%|          | 0/98 [00:00<?, ?it/s]"
          ],
          "name": "stderr"
        },
        {
          "output_type": "stream",
          "text": [
            " Test loss = 0.47825174407958987, Test Accuracy : 84.75\n",
            "16 / 24\n",
            "current_lr: 0.0018863174192851808\n"
          ],
          "name": "stdout"
        },
        {
          "output_type": "stream",
          "text": [
            "100%|██████████| 98/98 [00:33<00:00,  2.89it/s]\n",
            "  5%|▌         | 1/20 [00:00<00:02,  8.23it/s]"
          ],
          "name": "stderr"
        },
        {
          "output_type": "stream",
          "text": [
            " Training loss = 0.0004897740436717868, Training Accuracy : 93.836\n"
          ],
          "name": "stdout"
        },
        {
          "output_type": "stream",
          "text": [
            "100%|██████████| 20/20 [00:02<00:00,  8.48it/s]\n",
            "  0%|          | 0/98 [00:00<?, ?it/s]"
          ],
          "name": "stderr"
        },
        {
          "output_type": "stream",
          "text": [
            " Test loss = 0.544297834777832, Test Accuracy : 82.13\n",
            "17 / 24\n",
            "current_lr: 0.0014957964807531933\n"
          ],
          "name": "stdout"
        },
        {
          "output_type": "stream",
          "text": [
            "100%|██████████| 98/98 [00:33<00:00,  2.89it/s]\n",
            "  5%|▌         | 1/20 [00:00<00:02,  8.55it/s]"
          ],
          "name": "stderr"
        },
        {
          "output_type": "stream",
          "text": [
            " Training loss = 0.0004336778074502945, Training Accuracy : 95.134\n"
          ],
          "name": "stdout"
        },
        {
          "output_type": "stream",
          "text": [
            "100%|██████████| 20/20 [00:02<00:00,  8.59it/s]\n",
            "  0%|          | 0/98 [00:00<?, ?it/s]"
          ],
          "name": "stderr"
        },
        {
          "output_type": "stream",
          "text": [
            " Test loss = 0.4411041793823242, Test Accuracy : 86.13\n",
            "18 / 24\n",
            "current_lr: 0.0011326682783978864\n"
          ],
          "name": "stdout"
        },
        {
          "output_type": "stream",
          "text": [
            "100%|██████████| 98/98 [00:33<00:00,  2.89it/s]\n",
            "  5%|▌         | 1/20 [00:00<00:02,  8.48it/s]"
          ],
          "name": "stderr"
        },
        {
          "output_type": "stream",
          "text": [
            " Training loss = 0.0003797373501583934, Training Accuracy : 95.966\n"
          ],
          "name": "stdout"
        },
        {
          "output_type": "stream",
          "text": [
            "100%|██████████| 20/20 [00:02<00:00,  8.50it/s]\n",
            "  0%|          | 0/98 [00:00<?, ?it/s]"
          ],
          "name": "stderr"
        },
        {
          "output_type": "stream",
          "text": [
            " Test loss = 0.4136879318237305, Test Accuracy : 87.05\n",
            "19 / 24\n",
            "current_lr: 0.0008068380029749386\n"
          ],
          "name": "stdout"
        },
        {
          "output_type": "stream",
          "text": [
            "100%|██████████| 98/98 [00:34<00:00,  2.88it/s]\n",
            "  5%|▌         | 1/20 [00:00<00:02,  8.29it/s]"
          ],
          "name": "stderr"
        },
        {
          "output_type": "stream",
          "text": [
            " Training loss = 0.00031169643625617027, Training Accuracy : 97.31\n"
          ],
          "name": "stdout"
        },
        {
          "output_type": "stream",
          "text": [
            "100%|██████████| 20/20 [00:02<00:00,  8.70it/s]\n",
            "  0%|          | 0/98 [00:00<?, ?it/s]"
          ],
          "name": "stderr"
        },
        {
          "output_type": "stream",
          "text": [
            " Test loss = 0.4354416259765625, Test Accuracy : 85.9\n",
            "20 / 24\n",
            "current_lr: 0.0005271934550217513\n"
          ],
          "name": "stdout"
        },
        {
          "output_type": "stream",
          "text": [
            "100%|██████████| 98/98 [00:33<00:00,  2.89it/s]\n",
            "  5%|▌         | 1/20 [00:00<00:02,  8.50it/s]"
          ],
          "name": "stderr"
        },
        {
          "output_type": "stream",
          "text": [
            " Training loss = 0.00025455030845478177, Training Accuracy : 98.19\n"
          ],
          "name": "stdout"
        },
        {
          "output_type": "stream",
          "text": [
            "100%|██████████| 20/20 [00:02<00:00,  8.55it/s]\n",
            "  0%|          | 0/98 [00:00<?, ?it/s]"
          ],
          "name": "stderr"
        },
        {
          "output_type": "stream",
          "text": [
            " Test loss = 0.35404316329956054, Test Accuracy : 88.98\n",
            "21 / 24\n",
            "current_lr: 0.00030136260882755776\n"
          ],
          "name": "stdout"
        },
        {
          "output_type": "stream",
          "text": [
            "100%|██████████| 98/98 [00:33<00:00,  2.90it/s]\n",
            "  5%|▌         | 1/20 [00:00<00:02,  8.65it/s]"
          ],
          "name": "stderr"
        },
        {
          "output_type": "stream",
          "text": [
            " Training loss = 0.00020504090934991837, Training Accuracy : 98.974\n"
          ],
          "name": "stdout"
        },
        {
          "output_type": "stream",
          "text": [
            "100%|██████████| 20/20 [00:02<00:00,  8.50it/s]\n",
            "  0%|          | 0/98 [00:00<?, ?it/s]"
          ],
          "name": "stderr"
        },
        {
          "output_type": "stream",
          "text": [
            " Test loss = 0.31283740692138673, Test Accuracy : 90.69\n",
            "22 / 24\n",
            "current_lr: 0.00013550554117945594\n"
          ],
          "name": "stdout"
        },
        {
          "output_type": "stream",
          "text": [
            "100%|██████████| 98/98 [00:33<00:00,  2.89it/s]\n",
            "  5%|▌         | 1/20 [00:00<00:02,  7.93it/s]"
          ],
          "name": "stderr"
        },
        {
          "output_type": "stream",
          "text": [
            " Training loss = 0.00017494156782049686, Training Accuracy : 99.338\n"
          ],
          "name": "stdout"
        },
        {
          "output_type": "stream",
          "text": [
            "100%|██████████| 20/20 [00:02<00:00,  8.73it/s]\n",
            "  0%|          | 0/98 [00:00<?, ?it/s]"
          ],
          "name": "stderr"
        },
        {
          "output_type": "stream",
          "text": [
            " Test loss = 0.30176014862060546, Test Accuracy : 91.0\n",
            "23 / 24\n",
            "current_lr: 3.4146400525779265e-05\n"
          ],
          "name": "stdout"
        },
        {
          "output_type": "stream",
          "text": [
            "100%|██████████| 98/98 [00:33<00:00,  2.89it/s]\n",
            "  5%|▌         | 1/20 [00:00<00:02,  8.37it/s]"
          ],
          "name": "stderr"
        },
        {
          "output_type": "stream",
          "text": [
            " Training loss = 0.0001606127480044961, Training Accuracy : 99.558\n"
          ],
          "name": "stdout"
        },
        {
          "output_type": "stream",
          "text": [
            "100%|██████████| 20/20 [00:02<00:00,  8.55it/s]\n",
            "  0%|          | 0/98 [00:00<?, ?it/s]"
          ],
          "name": "stderr"
        },
        {
          "output_type": "stream",
          "text": [
            " Test loss = 0.29707028656005857, Test Accuracy : 91.29\n",
            "24 / 24\n",
            "current_lr: 5e-08\n"
          ],
          "name": "stdout"
        },
        {
          "output_type": "stream",
          "text": [
            "100%|██████████| 98/98 [00:33<00:00,  2.90it/s]\n",
            "  5%|▌         | 1/20 [00:00<00:02,  8.48it/s]"
          ],
          "name": "stderr"
        },
        {
          "output_type": "stream",
          "text": [
            " Training loss = 0.00015600657206960022, Training Accuracy : 99.55\n"
          ],
          "name": "stdout"
        },
        {
          "output_type": "stream",
          "text": [
            "100%|██████████| 20/20 [00:02<00:00,  8.54it/s]"
          ],
          "name": "stderr"
        },
        {
          "output_type": "stream",
          "text": [
            " Test loss = 0.2962520248413086, Test Accuracy : 91.29\n",
            "Done!\n"
          ],
          "name": "stdout"
        },
        {
          "output_type": "stream",
          "text": [
            "\n"
          ],
          "name": "stderr"
        }
      ]
    }
  ]
}