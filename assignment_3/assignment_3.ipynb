{
  "nbformat": 4,
  "nbformat_minor": 0,
  "metadata": {
    "language_info": {
      "codemirror_mode": {
        "name": "ipython",
        "version": 3
      },
      "file_extension": ".py",
      "mimetype": "text/x-python",
      "name": "python",
      "nbconvert_exporter": "python",
      "pygments_lexer": "ipython3",
      "version": "3.7.3-final"
    },
    "orig_nbformat": 2,
    "kernelspec": {
      "name": "python3",
      "display_name": "Python 3",
      "language": "python"
    },
    "colab": {
      "name": "Copy of assignment_3.ipynb",
      "provenance": [],
      "collapsed_sections": [],
      "include_colab_link": true
    },
    "accelerator": "GPU"
  },
  "cells": [
    {
      "cell_type": "markdown",
      "metadata": {
        "id": "view-in-github",
        "colab_type": "text"
      },
      "source": [
        "<a href=\"https://colab.research.google.com/github/dexter11235813/EVA_5/blob/main/assignment_3/assignment_3.ipynb\" target=\"_parent\"><img src=\"https://colab.research.google.com/assets/colab-badge.svg\" alt=\"Open In Colab\"/></a>"
      ]
    },
    {
      "cell_type": "code",
      "metadata": {
        "id": "ipx2kqmFKD_j",
        "colab": {
          "base_uri": "https://localhost:8080/"
        },
        "outputId": "f4ecd977-29dd-48e5-9f05-db966841a6af"
      },
      "source": [
        "!nvidia-smi"
      ],
      "execution_count": null,
      "outputs": [
        {
          "output_type": "stream",
          "text": [
            "Sat Dec 12 15:10:48 2020       \n",
            "+-----------------------------------------------------------------------------+\n",
            "| NVIDIA-SMI 455.45.01    Driver Version: 418.67       CUDA Version: 10.1     |\n",
            "|-------------------------------+----------------------+----------------------+\n",
            "| GPU  Name        Persistence-M| Bus-Id        Disp.A | Volatile Uncorr. ECC |\n",
            "| Fan  Temp  Perf  Pwr:Usage/Cap|         Memory-Usage | GPU-Util  Compute M. |\n",
            "|                               |                      |               MIG M. |\n",
            "|===============================+======================+======================|\n",
            "|   0  Tesla T4            Off  | 00000000:00:04.0 Off |                    0 |\n",
            "| N/A   70C    P8    11W /  70W |      0MiB / 15079MiB |      0%      Default |\n",
            "|                               |                      |                 ERR! |\n",
            "+-------------------------------+----------------------+----------------------+\n",
            "                                                                               \n",
            "+-----------------------------------------------------------------------------+\n",
            "| Processes:                                                                  |\n",
            "|  GPU   GI   CI        PID   Type   Process name                  GPU Memory |\n",
            "|        ID   ID                                                   Usage      |\n",
            "|=============================================================================|\n",
            "|  No running processes found                                                 |\n",
            "+-----------------------------------------------------------------------------+\n"
          ],
          "name": "stdout"
        }
      ]
    },
    {
      "cell_type": "code",
      "metadata": {
        "id": "Q1JXTn-PJ1bE"
      },
      "source": [
        "import torch\n",
        "import torch.nn as nn\n",
        "import torchvision\n",
        "from torchvision import datasets\n",
        "from torchvision.transforms import transforms\n",
        "import matplotlib.pyplot as plt\n",
        "import numpy as np\n",
        "from tqdm import tqdm\n",
        "from functools import partial\n",
        "import torch.nn.functional as F"
      ],
      "execution_count": null,
      "outputs": []
    },
    {
      "cell_type": "code",
      "metadata": {
        "id": "eJW9M14sJ1bG"
      },
      "source": [
        "class Net(nn.Module):\n",
        "  \n",
        "  def __init__(self):\n",
        "    super(Net, self).__init__()\n",
        "    self.conv1 = nn.Conv2d(1, 10, kernel_size=3, bias=False)\n",
        "    self.conv2 = nn.Conv2d(10, 10, kernel_size=3, bias=False)\n",
        "    self.conv3 = nn.Conv2d(10, 20, kernel_size=3, bias=False)\n",
        "    self.conv4 = nn.Conv2d(20, 20, kernel_size=3, bias=False)\n",
        "    self.conv5 = nn.Conv2d(20, 30, kernel_size=3, bias=False)\n",
        "    self.max_pool = nn.MaxPool2d(2,2)\n",
        "    self.conv6 = nn.Conv2d(30, 62, kernel_size=3, bias=False)\n",
        "    self.GAP = nn.AvgPool2d(4)\n",
        "    self.relu = nn.ReLU()\n",
        "    self.dropout = nn.Dropout(0.2)\n",
        "    \n",
        "  def forward(self, x):\n",
        "    x = self.max_pool(self.dropout(self.relu(self.conv2(self.dropout(self.relu(self.conv1(x)))))))\n",
        "    x = self.dropout(self.relu(self.conv4(self.dropout(self.relu(self.conv3(x))))))\n",
        "    x = self.relu(self.conv5(x))\n",
        "    x = self.GAP(self.conv6(x))\n",
        "    #x = x.view(-1, 10)\n",
        "    #print(x.shape)\n",
        "    return F.log_softmax(x.view(-1, 62), dim=1) "
      ],
      "execution_count": null,
      "outputs": []
    },
    {
      "cell_type": "code",
      "metadata": {
        "id": "LfS6JQLaJ1bH",
        "colab": {
          "base_uri": "https://localhost:8080/"
        },
        "outputId": "86aa9ce9-694f-435b-d14a-682ad6b3cc79"
      },
      "source": [
        "from torchsummary import summary\n",
        "use_cuda = torch.cuda.is_available()\n",
        "device = torch.device(\"cuda\" if use_cuda else \"cpu\")\n",
        "model = Net().to(device)\n",
        "summary(model, input_size=(1, 28, 28))"
      ],
      "execution_count": null,
      "outputs": [
        {
          "output_type": "stream",
          "text": [
            "----------------------------------------------------------------\n",
            "        Layer (type)               Output Shape         Param #\n",
            "================================================================\n",
            "            Conv2d-1           [-1, 10, 26, 26]              90\n",
            "              ReLU-2           [-1, 10, 26, 26]               0\n",
            "           Dropout-3           [-1, 10, 26, 26]               0\n",
            "            Conv2d-4           [-1, 10, 24, 24]             900\n",
            "              ReLU-5           [-1, 10, 24, 24]               0\n",
            "           Dropout-6           [-1, 10, 24, 24]               0\n",
            "         MaxPool2d-7           [-1, 10, 12, 12]               0\n",
            "            Conv2d-8           [-1, 20, 10, 10]           1,800\n",
            "              ReLU-9           [-1, 20, 10, 10]               0\n",
            "          Dropout-10           [-1, 20, 10, 10]               0\n",
            "           Conv2d-11             [-1, 20, 8, 8]           3,600\n",
            "             ReLU-12             [-1, 20, 8, 8]               0\n",
            "          Dropout-13             [-1, 20, 8, 8]               0\n",
            "           Conv2d-14             [-1, 30, 6, 6]           5,400\n",
            "             ReLU-15             [-1, 30, 6, 6]               0\n",
            "           Conv2d-16             [-1, 62, 4, 4]          16,740\n",
            "        AvgPool2d-17             [-1, 62, 1, 1]               0\n",
            "================================================================\n",
            "Total params: 28,530\n",
            "Trainable params: 28,530\n",
            "Non-trainable params: 0\n",
            "----------------------------------------------------------------\n",
            "Input size (MB): 0.00\n",
            "Forward/backward pass size (MB): 0.40\n",
            "Params size (MB): 0.11\n",
            "Estimated Total Size (MB): 0.51\n",
            "----------------------------------------------------------------\n"
          ],
          "name": "stdout"
        }
      ]
    },
    {
      "cell_type": "code",
      "metadata": {
        "id": "96ccX8dWJ1bI"
      },
      "source": [
        "train_set = datasets.EMNIST(\n",
        "    root=\"./data\",\n",
        "    train=True,\n",
        "    download=True,\n",
        "    split=\"byclass\",\n",
        "    transform=transforms.Compose(\n",
        "        [\n",
        "            # transforms.RandomRotation(10),\n",
        "            # transforms.RandomHorizontalFlip(),\n",
        "            # transforms.RandomVerticalFlip(),\n",
        "            transforms.ToTensor(),\n",
        "        ]\n",
        "    ),\n",
        ")\n",
        "test_set = datasets.EMNIST(\n",
        "    root=\"./data\",\n",
        "    train=False,\n",
        "    download=True,\n",
        "    split=\"byclass\",\n",
        "    transform=transforms.Compose(\n",
        "        [\n",
        "            # transforms.RandomRotation(10),\n",
        "            # transforms.RandomHorizontalFlip(),\n",
        "            # transforms.RandomVerticalFlip(),\n",
        "            transforms.ToTensor(),\n",
        "        ]\n",
        "    ),\n",
        ")"
      ],
      "execution_count": null,
      "outputs": []
    },
    {
      "cell_type": "code",
      "metadata": {
        "id": "kqbJpSaDJ1bJ"
      },
      "source": [
        "train_loader = torch.utils.data.DataLoader(train_set, batch_size=32, shuffle=True)\n",
        "test_loader = torch.utils.data.DataLoader(test_set, batch_size=32, shuffle=True)"
      ],
      "execution_count": null,
      "outputs": []
    },
    {
      "cell_type": "code",
      "metadata": {
        "id": "fWJOdbzfJ1bK",
        "colab": {
          "base_uri": "https://localhost:8080/",
          "height": 506
        },
        "outputId": "efb6c107-ff89-418c-f21d-2871781a70e4"
      },
      "source": [
        "batch = next(iter(train_loader))\n",
        "images, labels = batch\n",
        "grid = torchvision.utils.make_grid(images, nrow=8)\n",
        "plt.figure(figsize=(15, 15))\n",
        "plt.imshow(np.transpose(grid, (1,2,0)))\n",
        "print(labels)\n"
      ],
      "execution_count": null,
      "outputs": [
        {
          "output_type": "stream",
          "text": [
            "tensor([ 5, 39,  6, 55,  2,  5,  4,  2,  8,  2, 30,  0, 53,  4, 20, 21,  3,  3,\n",
            "        52,  4,  2, 53,  2,  2,  1, 30, 53, 11,  5, 36,  6,  0])\n"
          ],
          "name": "stdout"
        },
        {
          "output_type": "display_data",
          "data": {
            "image/png": "[encoded data removed]",
            "text/plain": [
              "<Figure size 1080x1080 with 1 Axes>"
            ]
          },
          "metadata": {
            "tags": [],
            "needs_background": "light"
          }
        }
      ]
    },
    {
      "cell_type": "code",
      "metadata": {
        "id": "z07rf6hXJ1bL"
      },
      "source": [
        "\n",
        "def train(model, device, train_loader, optimizer, epoch):\n",
        "    model.train()\n",
        "    for _, (data, target) in tqdm(enumerate(train_loader), total=len(train_loader)):\n",
        "        data, target = data.to(device), target.to(device)\n",
        "        optimizer.zero_grad()\n",
        "        output = model(data)\n",
        "        loss = F.nll_loss(output.squeeze(), target)\n",
        "        loss.backward()\n",
        "        optimizer.step()\n",
        "\n",
        "\n",
        "# pbar.set_description(desc= f'loss={loss.item()} batch_id={batch_idx}')\n",
        "\n",
        "\n",
        "def test(model, device, test_loader):\n",
        "    model.eval()\n",
        "    test_loss = 0\n",
        "    correct = 0\n",
        "    with torch.no_grad():\n",
        "        for _, (data, target) in tqdm(enumerate(test_loader), total=len(test_loader)):\n",
        "            data, target = data.to(device), target.to(device)\n",
        "            output = model(data)\n",
        "            test_loss += F.nll_loss(\n",
        "                output.squeeze(), target\n",
        "            ).item()  # sum up batch loss\n",
        "            pred = output.argmax(\n",
        "                dim=1, keepdim=True\n",
        "            )  # get the index of the max log-probability\n",
        "            correct += pred.eq(target.view_as(pred)).sum().item()\n",
        "\n",
        "    test_loss /= len(test_loader.dataset)\n",
        "\n",
        "    print(\n",
        "        \"\\nTest set: Average loss: {:.4f}, Accuracy: {}/{} ({:.0f}%)\\n\".format(\n",
        "            test_loss,\n",
        "            correct,\n",
        "            len(test_loader.dataset),\n",
        "            100.0 * correct / len(test_loader.dataset),\n",
        "        )\n",
        "    )\n",
        "\n"
      ],
      "execution_count": null,
      "outputs": []
    },
    {
      "cell_type": "code",
      "metadata": {
        "id": "X0Q3e0hgJ1bM",
        "colab": {
          "base_uri": "https://localhost:8080/"
        },
        "outputId": "70ab3c1d-6c8d-4d24-d36a-29647c2c8413"
      },
      "source": [
        "\n",
        "optimizer = torch.optim.Adam(model.parameters())\n",
        "\n",
        "for epoch in range(10):\n",
        "    print(f'EPOCH {epoch} / 10')\n",
        "    train(model, device, train_loader, optimizer, epoch)\n",
        "    test(model, device, test_loader)"
      ],
      "execution_count": null,
      "outputs": [
        {
          "output_type": "stream",
          "text": [
            "  0%|          | 10/21811 [00:00<03:42, 98.18it/s]"
          ],
          "name": "stderr"
        },
        {
          "output_type": "stream",
          "text": [
            "EPOCH 0 / 10\n"
          ],
          "name": "stdout"
        },
        {
          "output_type": "stream",
          "text": [
            "100%|██████████| 21811/21811 [02:05<00:00, 174.30it/s]\n",
            "100%|██████████| 3636/3636 [00:12<00:00, 294.58it/s]\n",
            "  0%|          | 12/21811 [00:00<03:09, 115.19it/s]"
          ],
          "name": "stderr"
        },
        {
          "output_type": "stream",
          "text": [
            "\n",
            "Test set: Average loss: 0.0148, Accuracy: 97123/116323 (83%)\n",
            "\n",
            "EPOCH 1 / 10\n"
          ],
          "name": "stdout"
        },
        {
          "output_type": "stream",
          "text": [
            "100%|██████████| 21811/21811 [02:04<00:00, 174.73it/s]\n",
            "100%|██████████| 3636/3636 [00:12<00:00, 296.17it/s]\n",
            "  0%|          | 12/21811 [00:00<03:07, 115.99it/s]"
          ],
          "name": "stderr"
        },
        {
          "output_type": "stream",
          "text": [
            "\n",
            "Test set: Average loss: 0.0141, Accuracy: 97863/116323 (84%)\n",
            "\n",
            "EPOCH 2 / 10\n"
          ],
          "name": "stdout"
        },
        {
          "output_type": "stream",
          "text": [
            "100%|██████████| 21811/21811 [02:05<00:00, 174.08it/s]\n",
            "100%|██████████| 3636/3636 [00:12<00:00, 284.85it/s]\n",
            "  0%|          | 10/21811 [00:00<03:42, 97.85it/s]"
          ],
          "name": "stderr"
        },
        {
          "output_type": "stream",
          "text": [
            "\n",
            "Test set: Average loss: 0.0135, Accuracy: 98517/116323 (85%)\n",
            "\n",
            "EPOCH 3 / 10\n"
          ],
          "name": "stdout"
        },
        {
          "output_type": "stream",
          "text": [
            "100%|██████████| 21811/21811 [02:06<00:00, 172.19it/s]\n",
            "100%|██████████| 3636/3636 [00:12<00:00, 288.38it/s]\n",
            "  0%|          | 11/21811 [00:00<03:28, 104.76it/s]"
          ],
          "name": "stderr"
        },
        {
          "output_type": "stream",
          "text": [
            "\n",
            "Test set: Average loss: 0.0133, Accuracy: 99021/116323 (85%)\n",
            "\n",
            "EPOCH 4 / 10\n"
          ],
          "name": "stdout"
        },
        {
          "output_type": "stream",
          "text": [
            "100%|██████████| 21811/21811 [02:08<00:00, 169.93it/s]\n",
            "100%|██████████| 3636/3636 [00:12<00:00, 287.61it/s]\n",
            "  0%|          | 8/21811 [00:00<04:37, 78.45it/s]"
          ],
          "name": "stderr"
        },
        {
          "output_type": "stream",
          "text": [
            "\n",
            "Test set: Average loss: 0.0132, Accuracy: 99068/116323 (85%)\n",
            "\n",
            "EPOCH 5 / 10\n"
          ],
          "name": "stdout"
        },
        {
          "output_type": "stream",
          "text": [
            "100%|██████████| 21811/21811 [02:06<00:00, 172.93it/s]\n",
            "100%|██████████| 3636/3636 [00:12<00:00, 286.17it/s]\n",
            "  0%|          | 11/21811 [00:00<03:26, 105.49it/s]"
          ],
          "name": "stderr"
        },
        {
          "output_type": "stream",
          "text": [
            "\n",
            "Test set: Average loss: 0.0128, Accuracy: 99600/116323 (86%)\n",
            "\n",
            "EPOCH 6 / 10\n"
          ],
          "name": "stdout"
        },
        {
          "output_type": "stream",
          "text": [
            "100%|██████████| 21811/21811 [02:06<00:00, 172.04it/s]\n",
            "100%|██████████| 3636/3636 [00:12<00:00, 287.93it/s]\n",
            "  0%|          | 10/21811 [00:00<03:40, 98.89it/s]"
          ],
          "name": "stderr"
        },
        {
          "output_type": "stream",
          "text": [
            "\n",
            "Test set: Average loss: 0.0129, Accuracy: 99574/116323 (86%)\n",
            "\n",
            "EPOCH 7 / 10\n"
          ],
          "name": "stdout"
        },
        {
          "output_type": "stream",
          "text": [
            "100%|██████████| 21811/21811 [02:07<00:00, 171.30it/s]\n",
            "100%|██████████| 3636/3636 [00:13<00:00, 275.25it/s]\n",
            "  0%|          | 9/21811 [00:00<04:14, 85.79it/s]"
          ],
          "name": "stderr"
        },
        {
          "output_type": "stream",
          "text": [
            "\n",
            "Test set: Average loss: 0.0128, Accuracy: 99536/116323 (86%)\n",
            "\n",
            "EPOCH 8 / 10\n"
          ],
          "name": "stdout"
        },
        {
          "output_type": "stream",
          "text": [
            "100%|██████████| 21811/21811 [02:08<00:00, 170.20it/s]\n",
            "100%|██████████| 3636/3636 [00:12<00:00, 280.60it/s]\n",
            "  0%|          | 10/21811 [00:00<03:41, 98.52it/s]"
          ],
          "name": "stderr"
        },
        {
          "output_type": "stream",
          "text": [
            "\n",
            "Test set: Average loss: 0.0133, Accuracy: 99529/116323 (86%)\n",
            "\n",
            "EPOCH 9 / 10\n"
          ],
          "name": "stdout"
        },
        {
          "output_type": "stream",
          "text": [
            "100%|██████████| 21811/21811 [02:08<00:00, 169.83it/s]\n",
            "100%|██████████| 3636/3636 [00:12<00:00, 282.28it/s]"
          ],
          "name": "stderr"
        },
        {
          "output_type": "stream",
          "text": [
            "\n",
            "Test set: Average loss: 0.0128, Accuracy: 99392/116323 (85%)\n",
            "\n"
          ],
          "name": "stdout"
        },
        {
          "output_type": "stream",
          "text": [
            "\n"
          ],
          "name": "stderr"
        }
      ]
    },
    {
      "cell_type": "code",
      "metadata": {
        "id": "VuAJpM16XW6P"
      },
      "source": [
        ""
      ],
      "execution_count": null,
      "outputs": []
    }
  ]
}