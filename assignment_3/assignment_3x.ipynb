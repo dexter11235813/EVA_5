{
  "nbformat": 4,
  "nbformat_minor": 0,
  "metadata": {
    "language_info": {
      "codemirror_mode": {
        "name": "ipython",
        "version": 3
      },
      "file_extension": ".py",
      "mimetype": "text/x-python",
      "name": "python",
      "nbconvert_exporter": "python",
      "pygments_lexer": "ipython3",
      "version": "3.7.3-final"
    },
    "orig_nbformat": 2,
    "kernelspec": {
      "name": "python3",
      "display_name": "Python 3",
      "language": "python"
    },
    "colab": {
      "name": "Copy of assignment_3.ipynb",
      "provenance": [],
      "collapsed_sections": [],
      "include_colab_link": true
    },
    "accelerator": "GPU"
  },
  "cells": [
    {
      "cell_type": "markdown",
      "metadata": {
        "id": "view-in-github",
        "colab_type": "text"
      },
      "source": [
        "<a href=\"https://colab.research.google.com/github/dexter11235813/EVA_5/blob/main/assignment_3/assignment_3x.ipynb\" target=\"_parent\"><img src=\"https://colab.research.google.com/assets/colab-badge.svg\" alt=\"Open In Colab\"/></a>"
      ]
    },
    {
      "cell_type": "code",
      "metadata": {
        "id": "ipx2kqmFKD_j",
        "colab": {
          "base_uri": "https://localhost:8080/"
        },
        "outputId": "75648ad0-6e2c-4181-fe65-868020a985bf"
      },
      "source": [
        "!nvidia-smi"
      ],
      "execution_count": 1,
      "outputs": [
        {
          "output_type": "stream",
          "text": [
            "Sat Dec 12 18:24:00 2020       \n",
            "+-----------------------------------------------------------------------------+\n",
            "| NVIDIA-SMI 455.45.01    Driver Version: 418.67       CUDA Version: 10.1     |\n",
            "|-------------------------------+----------------------+----------------------+\n",
            "| GPU  Name        Persistence-M| Bus-Id        Disp.A | Volatile Uncorr. ECC |\n",
            "| Fan  Temp  Perf  Pwr:Usage/Cap|         Memory-Usage | GPU-Util  Compute M. |\n",
            "|                               |                      |               MIG M. |\n",
            "|===============================+======================+======================|\n",
            "|   0  Tesla T4            Off  | 00000000:00:04.0 Off |                    0 |\n",
            "| N/A   43C    P8     9W /  70W |      0MiB / 15079MiB |      0%      Default |\n",
            "|                               |                      |                 ERR! |\n",
            "+-------------------------------+----------------------+----------------------+\n",
            "                                                                               \n",
            "+-----------------------------------------------------------------------------+\n",
            "| Processes:                                                                  |\n",
            "|  GPU   GI   CI        PID   Type   Process name                  GPU Memory |\n",
            "|        ID   ID                                                   Usage      |\n",
            "|=============================================================================|\n",
            "|  No running processes found                                                 |\n",
            "+-----------------------------------------------------------------------------+\n"
          ],
          "name": "stdout"
        }
      ]
    },
    {
      "cell_type": "code",
      "metadata": {
        "id": "Q1JXTn-PJ1bE"
      },
      "source": [
        "# imports\n",
        "import torch\n",
        "import torch.nn as nn\n",
        "import torchvision\n",
        "from torchvision import datasets\n",
        "from torchvision.transforms import transforms\n",
        "import matplotlib.pyplot as plt\n",
        "import numpy as np\n",
        "from tqdm import tqdm\n",
        "from functools import partial\n",
        "import torch.nn.functional as F\n",
        "\n",
        "tqdm = partial(tqdm, leave=True, position=0)"
      ],
      "execution_count": 27,
      "outputs": []
    },
    {
      "cell_type": "code",
      "metadata": {
        "id": "eJW9M14sJ1bG"
      },
      "source": [
        "class Net(nn.Module):\n",
        "  \n",
        "  def __init__(self):\n",
        "    super(Net, self).__init__()\n",
        "    self.conv1 = nn.Conv2d(1, 10, kernel_size=3, bias=False, padding=1)\n",
        "    self.conv2 = nn.Conv2d(10, 10, kernel_size=3, bias=False)\n",
        "    self.conv3 = nn.Conv2d(10, 20, kernel_size=3, bias=False, padding=1)\n",
        "    self.conv4 = nn.Conv2d(20, 20 , kernel_size=3, bias=False)\n",
        "    self.conv5 = nn.Conv2d(20, 30, kernel_size=3, bias=False, padding=1)\n",
        "    self.max_pool = nn.MaxPool2d(2,2)\n",
        "    self.conv6 = nn.Conv2d(30, 62, kernel_size=3, bias=False)\n",
        "    self.GAP = nn.AvgPool2d(3)\n",
        "    self.relu = nn.ReLU()\n",
        "    self.dropout = nn.Dropout(0.2)\n",
        "    \n",
        "  def forward(self, x):\n",
        "    x = self.dropout(self.max_pool(self.relu(self.conv2(self.dropout(self.relu(self.conv1(x)))))))  # 28 x 28 x 1 -> 28 x 28 x 10 (RF = 3) -> 26 x 26 x 10 (RF = 5) -> 13 x 13 x 10 (RF = 10)\n",
        "    x = self.dropout(self.max_pool(self.relu(self.conv4(self.dropout(self.relu(self.conv3(x)))))))  # 13 x 13 x 10 (RF = 10) -> 13 x 13 x 20 (RF = 12) -> 11 x 11 x 20 (RF = 14) -> 5 x 5 x 20 (RF = 28)\n",
        "    x = self.dropout(self.relu(self.conv5(x))) # 5 x 5 x 20 (RF = 28) -> 5 x 5 x 30 (RF = 30)\n",
        "    x = self.GAP(self.conv6(x)) # 5 x 5 x 30 (RF = 30) -> 3 x 3 x 62 (RF = 32)\n",
        "    #return x\n",
        "    #x = x.view(-1, 10)\n",
        "    #print(x.shape)\n",
        "    return F.log_softmax(x.view(-1, 62), dim=1) "
      ],
      "execution_count": 92,
      "outputs": []
    },
    {
      "cell_type": "code",
      "metadata": {
        "id": "LfS6JQLaJ1bH",
        "colab": {
          "base_uri": "https://localhost:8080/"
        },
        "outputId": "bbfda161-4d6e-4f4c-b7fd-2b4126654916"
      },
      "source": [
        "from torchsummary import summary\n",
        "use_cuda = torch.cuda.is_available() \n",
        "device = torch.device(\"cuda\" if use_cuda else \"cpu\") # moving model to CUDA, if available\n",
        "model = Net().to(device)\n",
        "summary(model, input_size=(1, 28, 28))"
      ],
      "execution_count": 99,
      "outputs": [
        {
          "output_type": "stream",
          "text": [
            "----------------------------------------------------------------\n",
            "        Layer (type)               Output Shape         Param #\n",
            "================================================================\n",
            "            Conv2d-1           [-1, 10, 28, 28]              90\n",
            "              ReLU-2           [-1, 10, 28, 28]               0\n",
            "           Dropout-3           [-1, 10, 28, 28]               0\n",
            "            Conv2d-4           [-1, 10, 26, 26]             900\n",
            "              ReLU-5           [-1, 10, 26, 26]               0\n",
            "         MaxPool2d-6           [-1, 10, 13, 13]               0\n",
            "           Dropout-7           [-1, 10, 13, 13]               0\n",
            "            Conv2d-8           [-1, 20, 13, 13]           1,800\n",
            "              ReLU-9           [-1, 20, 13, 13]               0\n",
            "          Dropout-10           [-1, 20, 13, 13]               0\n",
            "           Conv2d-11           [-1, 20, 11, 11]           3,600\n",
            "             ReLU-12           [-1, 20, 11, 11]               0\n",
            "        MaxPool2d-13             [-1, 20, 5, 5]               0\n",
            "          Dropout-14             [-1, 20, 5, 5]               0\n",
            "           Conv2d-15             [-1, 30, 5, 5]           5,400\n",
            "             ReLU-16             [-1, 30, 5, 5]               0\n",
            "          Dropout-17             [-1, 30, 5, 5]               0\n",
            "           Conv2d-18             [-1, 62, 3, 3]          16,740\n",
            "        AvgPool2d-19             [-1, 62, 1, 1]               0\n",
            "================================================================\n",
            "Total params: 28,530\n",
            "Trainable params: 28,530\n",
            "Non-trainable params: 0\n",
            "----------------------------------------------------------------\n",
            "Input size (MB): 0.00\n",
            "Forward/backward pass size (MB): 0.45\n",
            "Params size (MB): 0.11\n",
            "Estimated Total Size (MB): 0.56\n",
            "----------------------------------------------------------------\n"
          ],
          "name": "stdout"
        }
      ]
    },
    {
      "cell_type": "code",
      "metadata": {
        "id": "96ccX8dWJ1bI"
      },
      "source": [
        "# downloading Dataset\n",
        "\n",
        "train_set = datasets.EMNIST(\n",
        "    root=\"./data\",\n",
        "    train=True,\n",
        "    download=True,\n",
        "    split=\"byclass\",\n",
        "    transform=transforms.Compose(\n",
        "        [    # Experimented with random vertical and horizontal flip transforms, the resulting model accuracy did not beat the baseline\n",
        "            # transforms.RandomRotation(10),\n",
        "            # transforms.RandomHorizontalFlip(),\n",
        "            # transforms.RandomVerticalFlip(),\n",
        "            transforms.ToTensor(),\n",
        "        ]\n",
        "    ),\n",
        ")\n",
        "test_set = datasets.EMNIST(\n",
        "    root=\"./data\",\n",
        "    train=False,\n",
        "    download=True,\n",
        "    split=\"byclass\",\n",
        "    transform=transforms.Compose(\n",
        "        [\n",
        "            # transforms.RandomRotation(10),\n",
        "            # transforms.RandomHorizontalFlip(),\n",
        "            # transforms.RandomVerticalFlip(),\n",
        "            transforms.ToTensor(),\n",
        "        ]\n",
        "    ),\n",
        ")"
      ],
      "execution_count": 100,
      "outputs": []
    },
    {
      "cell_type": "code",
      "metadata": {
        "id": "kqbJpSaDJ1bJ"
      },
      "source": [
        "# Creating train_loader and test_loader from train and test set.\n",
        "train_loader = torch.utils.data.DataLoader(train_set, batch_size=128, shuffle=True)\n",
        "test_loader = torch.utils.data.DataLoader(test_set, batch_size=128, shuffle=True)"
      ],
      "execution_count": 101,
      "outputs": []
    },
    {
      "cell_type": "code",
      "metadata": {
        "id": "fWJOdbzfJ1bK"
      },
      "source": [
        "# batch = next(iter(train_loader))\n",
        "# images, labels = batch\n",
        "# grid = torchvision.utils.make_grid(images, nrow=8)\n",
        "# plt.figure(figsize=(15, 15))\n",
        "# plt.imshow(np.transpose(grid, (1,2,0)))\n",
        "# print(labels)\n"
      ],
      "execution_count": 102,
      "outputs": []
    },
    {
      "cell_type": "code",
      "metadata": {
        "id": "z07rf6hXJ1bL"
      },
      "source": [
        "\n",
        "def train(model, device, train_loader, optimizer, epoch):\n",
        "    model.train() # setting the model on train\n",
        "    train_loss = 0\n",
        "    train_correct = 0\n",
        "    for _, (data, target) in tqdm(enumerate(train_loader), total=len(train_loader)):\n",
        "        data, target = data.to(device), target.to(device) # reading in data and label batches from the train_loader\n",
        "        optimizer.zero_grad() # flushing all the gradients before training \n",
        "        output = model(data) # passing the image data through the model\n",
        "        loss = F.nll_loss(output.squeeze(), target) # calculating loss\n",
        "        train_loss += loss.item()\n",
        "        train_pred = output.argmax(dim=1, keepdim=True) # current label predictions from the model\n",
        "        train_correct += train_pred.eq(target.view_as(train_pred)).sum().item() # accumulating all the correct predictions from the batch\n",
        "        loss.backward() # backpropagating loss through the model\n",
        "        optimizer.step() # updating the optimizer\n",
        "        \n",
        "    train_loss /= len(train_loader.dataset) # calculating the train loss for the epoch\n",
        "\n",
        "    print(\n",
        "      \"\\n Train set: Average loss: {:.4f}, Accuracy: {}/{} ({:.0f}%)\\n\".format(\n",
        "          train_loss,\n",
        "          train_correct,\n",
        "          len(train_loader.dataset),\n",
        "          100.0 * train_correct / len(train_loader.dataset),\n",
        "          \n",
        "      )\n",
        "  )\n",
        "\n",
        "\n",
        "\n",
        "\n",
        "def test(model, device, test_loader):\n",
        "    model.eval() # putting the model in eval mode \n",
        "    test_loss = 0\n",
        "    correct = 0\n",
        "    with torch.no_grad():\n",
        "        for _, (data, target) in tqdm(enumerate(test_loader), total=len(test_loader)):\n",
        "            data, target = data.to(device), target.to(device)\n",
        "            output = model(data)\n",
        "            test_loss += F.nll_loss(\n",
        "                output.squeeze(), target\n",
        "            ).item()  # sum up batch loss\n",
        "            pred = output.argmax(\n",
        "                dim=1, keepdim=True\n",
        "            )  # get the index of the max log-probability\n",
        "            correct += pred.eq(target.view_as(pred)).sum().item()\n",
        "\n",
        "    test_loss /= len(test_loader.dataset)\n",
        "\n",
        "    print(\n",
        "        \"\\nTest set: Average loss: {:.4f}, Accuracy: {}/{} ({:.0f}%)\\n\".format(\n",
        "            test_loss,\n",
        "            correct,\n",
        "            len(test_loader.dataset),\n",
        "            100.0 * correct / len(test_loader.dataset),\n",
        "        )\n",
        "    )\n",
        "\n"
      ],
      "execution_count": 103,
      "outputs": []
    },
    {
      "cell_type": "code",
      "metadata": {
        "id": "X0Q3e0hgJ1bM",
        "colab": {
          "base_uri": "https://localhost:8080/"
        },
        "outputId": "2d859e50-7e3f-4c81-94ac-3f81239d31fe"
      },
      "source": [
        "%%time\n",
        "optimizer = torch.optim.Adam(model.parameters()) # initializing the adam optimizer\n",
        "\n",
        "EPOCHS = 20\n",
        "for epoch in range(EPOCHS):\n",
        "    print(f'EPOCH {epoch + 1} / {EPOCHS}')\n",
        "    train(model, device, train_loader, optimizer, epoch)\n",
        "    test(model, device, test_loader)"
      ],
      "execution_count": 105,
      "outputs": [
        {
          "output_type": "stream",
          "text": [
            "  0%|          | 4/5453 [00:00<02:19, 38.93it/s]"
          ],
          "name": "stderr"
        },
        {
          "output_type": "stream",
          "text": [
            "EPOCH 1 / 20\n"
          ],
          "name": "stdout"
        },
        {
          "output_type": "stream",
          "text": [
            "100%|██████████| 5453/5453 [01:08<00:00, 80.00it/s]\n",
            "  1%|          | 10/909 [00:00<00:09, 95.31it/s]"
          ],
          "name": "stderr"
        },
        {
          "output_type": "stream",
          "text": [
            "\n",
            " Train set: Average loss: 0.0062, Accuracy: 523956/697932 (75%)\n",
            "\n"
          ],
          "name": "stdout"
        },
        {
          "output_type": "stream",
          "text": [
            "100%|██████████| 909/909 [00:09<00:00, 95.95it/s]\n",
            "  0%|          | 5/5453 [00:00<01:50, 49.35it/s]"
          ],
          "name": "stderr"
        },
        {
          "output_type": "stream",
          "text": [
            "\n",
            "Test set: Average loss: 0.0037, Accuracy: 96953/116323 (83%)\n",
            "\n",
            "EPOCH 2 / 20\n"
          ],
          "name": "stdout"
        },
        {
          "output_type": "stream",
          "text": [
            "100%|██████████| 5453/5453 [01:07<00:00, 80.21it/s]\n",
            "  1%|          | 10/909 [00:00<00:09, 91.81it/s]"
          ],
          "name": "stderr"
        },
        {
          "output_type": "stream",
          "text": [
            "\n",
            " Train set: Average loss: 0.0041, Accuracy: 570420/697932 (82%)\n",
            "\n"
          ],
          "name": "stdout"
        },
        {
          "output_type": "stream",
          "text": [
            "100%|██████████| 909/909 [00:09<00:00, 96.49it/s]\n",
            "  0%|          | 5/5453 [00:00<01:57, 46.23it/s]"
          ],
          "name": "stderr"
        },
        {
          "output_type": "stream",
          "text": [
            "\n",
            "Test set: Average loss: 0.0034, Accuracy: 98360/116323 (85%)\n",
            "\n",
            "EPOCH 3 / 20\n"
          ],
          "name": "stdout"
        },
        {
          "output_type": "stream",
          "text": [
            "100%|██████████| 5453/5453 [01:08<00:00, 80.03it/s]\n",
            "  1%|          | 10/909 [00:00<00:09, 94.67it/s]"
          ],
          "name": "stderr"
        },
        {
          "output_type": "stream",
          "text": [
            "\n",
            " Train set: Average loss: 0.0039, Accuracy: 577125/697932 (83%)\n",
            "\n"
          ],
          "name": "stdout"
        },
        {
          "output_type": "stream",
          "text": [
            "100%|██████████| 909/909 [00:09<00:00, 95.62it/s]\n",
            "  0%|          | 5/5453 [00:00<01:54, 47.79it/s]"
          ],
          "name": "stderr"
        },
        {
          "output_type": "stream",
          "text": [
            "\n",
            "Test set: Average loss: 0.0032, Accuracy: 98949/116323 (85%)\n",
            "\n",
            "EPOCH 4 / 20\n"
          ],
          "name": "stdout"
        },
        {
          "output_type": "stream",
          "text": [
            "100%|██████████| 5453/5453 [01:08<00:00, 79.59it/s]\n",
            "  1%|          | 10/909 [00:00<00:09, 92.53it/s]"
          ],
          "name": "stderr"
        },
        {
          "output_type": "stream",
          "text": [
            "\n",
            " Train set: Average loss: 0.0037, Accuracy: 580425/697932 (83%)\n",
            "\n"
          ],
          "name": "stdout"
        },
        {
          "output_type": "stream",
          "text": [
            "100%|██████████| 909/909 [00:09<00:00, 95.75it/s]\n",
            "  0%|          | 5/5453 [00:00<01:54, 47.61it/s]"
          ],
          "name": "stderr"
        },
        {
          "output_type": "stream",
          "text": [
            "\n",
            "Test set: Average loss: 0.0032, Accuracy: 99207/116323 (85%)\n",
            "\n",
            "EPOCH 5 / 20\n"
          ],
          "name": "stdout"
        },
        {
          "output_type": "stream",
          "text": [
            "100%|██████████| 5453/5453 [01:08<00:00, 79.76it/s]\n",
            "  1%|          | 10/909 [00:00<00:09, 94.78it/s]"
          ],
          "name": "stderr"
        },
        {
          "output_type": "stream",
          "text": [
            "\n",
            " Train set: Average loss: 0.0037, Accuracy: 582329/697932 (83%)\n",
            "\n"
          ],
          "name": "stdout"
        },
        {
          "output_type": "stream",
          "text": [
            "100%|██████████| 909/909 [00:09<00:00, 96.38it/s]\n",
            "  0%|          | 5/5453 [00:00<01:51, 48.91it/s]"
          ],
          "name": "stderr"
        },
        {
          "output_type": "stream",
          "text": [
            "\n",
            "Test set: Average loss: 0.0031, Accuracy: 99400/116323 (85%)\n",
            "\n",
            "EPOCH 6 / 20\n"
          ],
          "name": "stdout"
        },
        {
          "output_type": "stream",
          "text": [
            "100%|██████████| 5453/5453 [01:08<00:00, 79.37it/s]\n",
            "  1%|          | 10/909 [00:00<00:09, 94.80it/s]"
          ],
          "name": "stderr"
        },
        {
          "output_type": "stream",
          "text": [
            "\n",
            " Train set: Average loss: 0.0036, Accuracy: 584019/697932 (84%)\n",
            "\n"
          ],
          "name": "stdout"
        },
        {
          "output_type": "stream",
          "text": [
            "100%|██████████| 909/909 [00:09<00:00, 96.83it/s]\n",
            "  0%|          | 5/5453 [00:00<01:50, 49.30it/s]"
          ],
          "name": "stderr"
        },
        {
          "output_type": "stream",
          "text": [
            "\n",
            "Test set: Average loss: 0.0032, Accuracy: 99528/116323 (86%)\n",
            "\n",
            "EPOCH 7 / 20\n"
          ],
          "name": "stdout"
        },
        {
          "output_type": "stream",
          "text": [
            "100%|██████████| 5453/5453 [01:08<00:00, 79.86it/s]\n",
            "  1%|          | 9/909 [00:00<00:10, 88.54it/s]"
          ],
          "name": "stderr"
        },
        {
          "output_type": "stream",
          "text": [
            "\n",
            " Train set: Average loss: 0.0036, Accuracy: 584756/697932 (84%)\n",
            "\n"
          ],
          "name": "stdout"
        },
        {
          "output_type": "stream",
          "text": [
            "100%|██████████| 909/909 [00:09<00:00, 97.30it/s]\n",
            "  0%|          | 5/5453 [00:00<01:51, 48.67it/s]"
          ],
          "name": "stderr"
        },
        {
          "output_type": "stream",
          "text": [
            "\n",
            "Test set: Average loss: 0.0032, Accuracy: 99620/116323 (86%)\n",
            "\n",
            "EPOCH 8 / 20\n"
          ],
          "name": "stdout"
        },
        {
          "output_type": "stream",
          "text": [
            "100%|██████████| 5453/5453 [01:08<00:00, 80.04it/s]\n",
            "  1%|          | 10/909 [00:00<00:09, 95.80it/s]"
          ],
          "name": "stderr"
        },
        {
          "output_type": "stream",
          "text": [
            "\n",
            " Train set: Average loss: 0.0035, Accuracy: 585807/697932 (84%)\n",
            "\n"
          ],
          "name": "stdout"
        },
        {
          "output_type": "stream",
          "text": [
            "100%|██████████| 909/909 [00:09<00:00, 96.95it/s]\n",
            "  0%|          | 5/5453 [00:00<01:49, 49.87it/s]"
          ],
          "name": "stderr"
        },
        {
          "output_type": "stream",
          "text": [
            "\n",
            "Test set: Average loss: 0.0031, Accuracy: 99801/116323 (86%)\n",
            "\n",
            "EPOCH 9 / 20\n"
          ],
          "name": "stdout"
        },
        {
          "output_type": "stream",
          "text": [
            "100%|██████████| 5453/5453 [01:08<00:00, 79.59it/s]\n",
            "  1%|          | 10/909 [00:00<00:09, 95.92it/s]"
          ],
          "name": "stderr"
        },
        {
          "output_type": "stream",
          "text": [
            "\n",
            " Train set: Average loss: 0.0035, Accuracy: 586480/697932 (84%)\n",
            "\n"
          ],
          "name": "stdout"
        },
        {
          "output_type": "stream",
          "text": [
            "100%|██████████| 909/909 [00:09<00:00, 96.91it/s]\n",
            "  0%|          | 5/5453 [00:00<01:49, 49.68it/s]"
          ],
          "name": "stderr"
        },
        {
          "output_type": "stream",
          "text": [
            "\n",
            "Test set: Average loss: 0.0031, Accuracy: 99565/116323 (86%)\n",
            "\n",
            "EPOCH 10 / 20\n"
          ],
          "name": "stdout"
        },
        {
          "output_type": "stream",
          "text": [
            "100%|██████████| 5453/5453 [01:08<00:00, 79.53it/s]\n",
            "  1%|          | 10/909 [00:00<00:09, 94.57it/s]"
          ],
          "name": "stderr"
        },
        {
          "output_type": "stream",
          "text": [
            "\n",
            " Train set: Average loss: 0.0035, Accuracy: 587120/697932 (84%)\n",
            "\n"
          ],
          "name": "stdout"
        },
        {
          "output_type": "stream",
          "text": [
            "100%|██████████| 909/909 [00:09<00:00, 97.85it/s]\n",
            "  0%|          | 5/5453 [00:00<01:51, 48.76it/s]"
          ],
          "name": "stderr"
        },
        {
          "output_type": "stream",
          "text": [
            "\n",
            "Test set: Average loss: 0.0032, Accuracy: 99678/116323 (86%)\n",
            "\n",
            "EPOCH 11 / 20\n"
          ],
          "name": "stdout"
        },
        {
          "output_type": "stream",
          "text": [
            "100%|██████████| 5453/5453 [01:08<00:00, 79.99it/s]\n",
            "  1%|          | 10/909 [00:00<00:09, 96.86it/s]"
          ],
          "name": "stderr"
        },
        {
          "output_type": "stream",
          "text": [
            "\n",
            " Train set: Average loss: 0.0035, Accuracy: 587133/697932 (84%)\n",
            "\n"
          ],
          "name": "stdout"
        },
        {
          "output_type": "stream",
          "text": [
            "100%|██████████| 909/909 [00:09<00:00, 96.63it/s]\n",
            "  0%|          | 5/5453 [00:00<01:51, 48.92it/s]"
          ],
          "name": "stderr"
        },
        {
          "output_type": "stream",
          "text": [
            "\n",
            "Test set: Average loss: 0.0030, Accuracy: 99778/116323 (86%)\n",
            "\n",
            "EPOCH 12 / 20\n"
          ],
          "name": "stdout"
        },
        {
          "output_type": "stream",
          "text": [
            "100%|██████████| 5453/5453 [01:08<00:00, 79.59it/s]\n",
            "  1%|          | 10/909 [00:00<00:09, 95.15it/s]"
          ],
          "name": "stderr"
        },
        {
          "output_type": "stream",
          "text": [
            "\n",
            " Train set: Average loss: 0.0035, Accuracy: 587718/697932 (84%)\n",
            "\n"
          ],
          "name": "stdout"
        },
        {
          "output_type": "stream",
          "text": [
            "100%|██████████| 909/909 [00:09<00:00, 96.52it/s]\n",
            "  0%|          | 5/5453 [00:00<01:57, 46.44it/s]"
          ],
          "name": "stderr"
        },
        {
          "output_type": "stream",
          "text": [
            "\n",
            "Test set: Average loss: 0.0031, Accuracy: 99793/116323 (86%)\n",
            "\n",
            "EPOCH 13 / 20\n"
          ],
          "name": "stdout"
        },
        {
          "output_type": "stream",
          "text": [
            "100%|██████████| 5453/5453 [01:08<00:00, 79.48it/s]\n",
            "  1%|          | 10/909 [00:00<00:09, 92.98it/s]"
          ],
          "name": "stderr"
        },
        {
          "output_type": "stream",
          "text": [
            "\n",
            " Train set: Average loss: 0.0035, Accuracy: 587972/697932 (84%)\n",
            "\n"
          ],
          "name": "stdout"
        },
        {
          "output_type": "stream",
          "text": [
            "100%|██████████| 909/909 [00:09<00:00, 96.62it/s]\n",
            "  0%|          | 5/5453 [00:00<01:50, 49.37it/s]"
          ],
          "name": "stderr"
        },
        {
          "output_type": "stream",
          "text": [
            "\n",
            "Test set: Average loss: 0.0030, Accuracy: 99973/116323 (86%)\n",
            "\n",
            "EPOCH 14 / 20\n"
          ],
          "name": "stdout"
        },
        {
          "output_type": "stream",
          "text": [
            "100%|██████████| 5453/5453 [01:08<00:00, 79.34it/s]\n",
            "  1%|          | 9/909 [00:00<00:10, 89.85it/s]"
          ],
          "name": "stderr"
        },
        {
          "output_type": "stream",
          "text": [
            "\n",
            " Train set: Average loss: 0.0035, Accuracy: 588382/697932 (84%)\n",
            "\n"
          ],
          "name": "stdout"
        },
        {
          "output_type": "stream",
          "text": [
            "100%|██████████| 909/909 [00:09<00:00, 97.24it/s]\n",
            "  0%|          | 6/5453 [00:00<01:40, 54.00it/s]"
          ],
          "name": "stderr"
        },
        {
          "output_type": "stream",
          "text": [
            "\n",
            "Test set: Average loss: 0.0030, Accuracy: 100142/116323 (86%)\n",
            "\n",
            "EPOCH 15 / 20\n"
          ],
          "name": "stdout"
        },
        {
          "output_type": "stream",
          "text": [
            "100%|██████████| 5453/5453 [01:08<00:00, 79.60it/s]\n",
            "  1%|          | 10/909 [00:00<00:09, 95.95it/s]"
          ],
          "name": "stderr"
        },
        {
          "output_type": "stream",
          "text": [
            "\n",
            " Train set: Average loss: 0.0034, Accuracy: 588572/697932 (84%)\n",
            "\n"
          ],
          "name": "stdout"
        },
        {
          "output_type": "stream",
          "text": [
            "100%|██████████| 909/909 [00:09<00:00, 96.41it/s]\n",
            "  0%|          | 5/5453 [00:00<01:56, 46.91it/s]"
          ],
          "name": "stderr"
        },
        {
          "output_type": "stream",
          "text": [
            "\n",
            "Test set: Average loss: 0.0030, Accuracy: 99954/116323 (86%)\n",
            "\n",
            "EPOCH 16 / 20\n"
          ],
          "name": "stdout"
        },
        {
          "output_type": "stream",
          "text": [
            "100%|██████████| 5453/5453 [01:08<00:00, 79.48it/s]\n",
            "  1%|          | 8/909 [00:00<00:11, 79.82it/s]"
          ],
          "name": "stderr"
        },
        {
          "output_type": "stream",
          "text": [
            "\n",
            " Train set: Average loss: 0.0034, Accuracy: 588823/697932 (84%)\n",
            "\n"
          ],
          "name": "stdout"
        },
        {
          "output_type": "stream",
          "text": [
            "100%|██████████| 909/909 [00:09<00:00, 95.20it/s]\n",
            "  0%|          | 5/5453 [00:00<01:54, 47.57it/s]"
          ],
          "name": "stderr"
        },
        {
          "output_type": "stream",
          "text": [
            "\n",
            "Test set: Average loss: 0.0031, Accuracy: 100085/116323 (86%)\n",
            "\n",
            "EPOCH 17 / 20\n"
          ],
          "name": "stdout"
        },
        {
          "output_type": "stream",
          "text": [
            "100%|██████████| 5453/5453 [01:08<00:00, 79.24it/s]\n",
            "  1%|          | 10/909 [00:00<00:09, 94.55it/s]"
          ],
          "name": "stderr"
        },
        {
          "output_type": "stream",
          "text": [
            "\n",
            " Train set: Average loss: 0.0034, Accuracy: 588801/697932 (84%)\n",
            "\n"
          ],
          "name": "stdout"
        },
        {
          "output_type": "stream",
          "text": [
            "100%|██████████| 909/909 [00:09<00:00, 96.38it/s]\n",
            "  0%|          | 5/5453 [00:00<01:51, 48.79it/s]"
          ],
          "name": "stderr"
        },
        {
          "output_type": "stream",
          "text": [
            "\n",
            "Test set: Average loss: 0.0030, Accuracy: 100045/116323 (86%)\n",
            "\n",
            "EPOCH 18 / 20\n"
          ],
          "name": "stdout"
        },
        {
          "output_type": "stream",
          "text": [
            "100%|██████████| 5453/5453 [01:09<00:00, 78.83it/s]\n",
            "  1%|          | 10/909 [00:00<00:09, 93.98it/s]"
          ],
          "name": "stderr"
        },
        {
          "output_type": "stream",
          "text": [
            "\n",
            " Train set: Average loss: 0.0034, Accuracy: 589208/697932 (84%)\n",
            "\n"
          ],
          "name": "stdout"
        },
        {
          "output_type": "stream",
          "text": [
            "100%|██████████| 909/909 [00:09<00:00, 96.51it/s]\n",
            "  0%|          | 5/5453 [00:00<01:50, 49.17it/s]"
          ],
          "name": "stderr"
        },
        {
          "output_type": "stream",
          "text": [
            "\n",
            "Test set: Average loss: 0.0031, Accuracy: 99968/116323 (86%)\n",
            "\n",
            "EPOCH 19 / 20\n"
          ],
          "name": "stdout"
        },
        {
          "output_type": "stream",
          "text": [
            "100%|██████████| 5453/5453 [01:08<00:00, 79.42it/s]\n",
            "  1%|          | 10/909 [00:00<00:09, 91.71it/s]"
          ],
          "name": "stderr"
        },
        {
          "output_type": "stream",
          "text": [
            "\n",
            " Train set: Average loss: 0.0034, Accuracy: 589561/697932 (84%)\n",
            "\n"
          ],
          "name": "stdout"
        },
        {
          "output_type": "stream",
          "text": [
            "100%|██████████| 909/909 [00:09<00:00, 95.63it/s]\n",
            "  0%|          | 5/5453 [00:00<01:52, 48.59it/s]"
          ],
          "name": "stderr"
        },
        {
          "output_type": "stream",
          "text": [
            "\n",
            "Test set: Average loss: 0.0030, Accuracy: 99999/116323 (86%)\n",
            "\n",
            "EPOCH 20 / 20\n"
          ],
          "name": "stdout"
        },
        {
          "output_type": "stream",
          "text": [
            "100%|██████████| 5453/5453 [01:08<00:00, 79.42it/s]\n",
            "  1%|          | 10/909 [00:00<00:09, 91.26it/s]"
          ],
          "name": "stderr"
        },
        {
          "output_type": "stream",
          "text": [
            "\n",
            " Train set: Average loss: 0.0034, Accuracy: 589372/697932 (84%)\n",
            "\n"
          ],
          "name": "stdout"
        },
        {
          "output_type": "stream",
          "text": [
            "100%|██████████| 909/909 [00:09<00:00, 96.32it/s]"
          ],
          "name": "stderr"
        },
        {
          "output_type": "stream",
          "text": [
            "\n",
            "Test set: Average loss: 0.0031, Accuracy: 100270/116323 (86%)\n",
            "\n",
            "CPU times: user 25min 16s, sys: 39.5 s, total: 25min 55s\n",
            "Wall time: 25min 58s\n"
          ],
          "name": "stdout"
        },
        {
          "output_type": "stream",
          "text": [
            "\n"
          ],
          "name": "stderr"
        }
      ]
    },
    {
      "cell_type": "code",
      "metadata": {
        "id": "VuAJpM16XW6P"
      },
      "source": [
        ""
      ],
      "execution_count": null,
      "outputs": []
    }
  ]
}