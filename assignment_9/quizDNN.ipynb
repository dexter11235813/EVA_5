{
 "cells": [
  {
   "cell_type": "code",
   "execution_count": 1,
   "metadata": {
    "scrolled": true
   },
   "outputs": [
    {
     "name": "stdout",
     "output_type": "stream",
     "text": [
      "Current Date/Time:  2021-02-07 02:43:06.879052\n"
     ]
    }
   ],
   "source": [
    "from datetime import datetime\n",
    "print(\"Current Date/Time: \", datetime.now())"
   ]
  },
  {
   "cell_type": "code",
   "execution_count": 3,
   "metadata": {},
   "outputs": [],
   "source": [
    "import importlib\n",
    "import torch\n",
    "import torch.nn as nn\n",
    "import torch.optim as optim\n",
    "import dataloader\n",
    "from torchsummary import summary\n",
    "import config\n",
    "import quizDNN\n",
    "from torch.optim.lr_scheduler import OneCycleLR\n",
    "import show_images_from_batch\n",
    "import grad_cam\n",
    "importlib.reload(model)\n",
    "importlib.reload(config)\n",
    "importlib.reload(dataloader)\n",
    "importlib.reload(show_images_from_batch)\n",
    "importlib.reload(grad_cam)\n",
    "\n",
    "import warnings\n",
    "warnings.filterwarnings('ignore')"
   ]
  },
  {
   "cell_type": "code",
   "execution_count": 11,
   "metadata": {},
   "outputs": [
    {
     "name": "stdout",
     "output_type": "stream",
     "text": [
      "Files already downloaded and verified\n",
      "Files already downloaded and verified\n"
     ]
    }
   ],
   "source": [
    "qnet = quizDNN.QuizNet().to(config.DEVICE)\n",
    "criterion = nn.CrossEntropyLoss()#torch.nn.functional.nll_loss\n",
    "optimizer = optim.SGD(qnet.parameters(), lr=0.1, momentum=0.9)\n",
    "scheduler = OneCycleLR(optimizer,max_lr=0.5,total_steps=20)\n",
    "train_loader, test_loader = dataloader.get_iterators()"
   ]
  },
  {
   "cell_type": "code",
   "execution_count": 8,
   "metadata": {},
   "outputs": [
    {
     "name": "stdout",
     "output_type": "stream",
     "text": [
      "----------------------------------------------------------------\n",
      "        Layer (type)               Output Shape         Param #\n",
      "================================================================\n",
      "            Conv2d-1           [-1, 64, 32, 32]           1,728\n",
      "              ReLU-2           [-1, 64, 32, 32]               0\n",
      "       BatchNorm2d-3           [-1, 64, 32, 32]             128\n",
      "            Conv2d-4           [-1, 64, 32, 32]          36,864\n",
      "       BatchNorm2d-5           [-1, 64, 32, 32]             128\n",
      "              ReLU-6           [-1, 64, 32, 32]               0\n",
      "         Dropout2d-7           [-1, 64, 32, 32]               0\n",
      "            Conv2d-8           [-1, 64, 32, 32]          36,864\n",
      "       BatchNorm2d-9           [-1, 64, 32, 32]             128\n",
      "             ReLU-10           [-1, 64, 32, 32]               0\n",
      "        Dropout2d-11           [-1, 64, 32, 32]               0\n",
      "        MaxPool2d-12           [-1, 64, 16, 16]               0\n",
      "           Conv2d-13           [-1, 64, 16, 16]          36,864\n",
      "      BatchNorm2d-14           [-1, 64, 16, 16]             128\n",
      "             ReLU-15           [-1, 64, 16, 16]               0\n",
      "          Dropout-16           [-1, 64, 16, 16]               0\n",
      "           Conv2d-17           [-1, 64, 16, 16]          36,864\n",
      "      BatchNorm2d-18           [-1, 64, 16, 16]             128\n",
      "             ReLU-19           [-1, 64, 16, 16]               0\n",
      "        Dropout2d-20           [-1, 64, 16, 16]               0\n",
      "           Conv2d-21           [-1, 64, 16, 16]          36,864\n",
      "      BatchNorm2d-22           [-1, 64, 16, 16]             128\n",
      "             ReLU-23           [-1, 64, 16, 16]               0\n",
      "        Dropout2d-24           [-1, 64, 16, 16]               0\n",
      "        MaxPool2d-25             [-1, 64, 8, 8]               0\n",
      "           Conv2d-26             [-1, 64, 8, 8]          36,864\n",
      "      BatchNorm2d-27             [-1, 64, 8, 8]             128\n",
      "          Dropout-28             [-1, 64, 8, 8]               0\n",
      "           Conv2d-29             [-1, 64, 8, 8]          36,864\n",
      "      BatchNorm2d-30             [-1, 64, 8, 8]             128\n",
      "             ReLU-31             [-1, 64, 8, 8]               0\n",
      "        Dropout2d-32             [-1, 64, 8, 8]               0\n",
      "           Conv2d-33             [-1, 64, 8, 8]          36,864\n",
      "      BatchNorm2d-34             [-1, 64, 8, 8]             128\n",
      "             ReLU-35             [-1, 64, 8, 8]               0\n",
      "        Dropout2d-36             [-1, 64, 8, 8]               0\n",
      "        AvgPool2d-37             [-1, 64, 1, 1]               0\n",
      "           Linear-38                   [-1, 10]             650\n",
      "================================================================\n",
      "Total params: 298,442\n",
      "Trainable params: 298,442\n",
      "Non-trainable params: 0\n",
      "----------------------------------------------------------------\n",
      "Input size (MB): 0.01\n",
      "Forward/backward pass size (MB): 7.50\n",
      "Params size (MB): 1.14\n",
      "Estimated Total Size (MB): 8.65\n",
      "----------------------------------------------------------------\n"
     ]
    }
   ],
   "source": [
    "summary(qnet, (3, 32, 32))\n"
   ]
  },
  {
   "cell_type": "code",
   "execution_count": 12,
   "metadata": {},
   "outputs": [
    {
     "name": "stderr",
     "output_type": "stream",
     "text": [
      "  0%|▏                                                                                 | 2/782 [00:00<00:49, 15.86it/s]"
     ]
    },
    {
     "name": "stdout",
     "output_type": "stream",
     "text": [
      "1 / 20\n"
     ]
    },
    {
     "name": "stderr",
     "output_type": "stream",
     "text": [
      "100%|████████████████████████████████████████████████████████████████████████████████| 782/782 [00:43<00:00, 18.14it/s]\n",
      "  6%|█████▏                                                                           | 10/157 [00:00<00:03, 48.50it/s]"
     ]
    },
    {
     "name": "stdout",
     "output_type": "stream",
     "text": [
      " Training loss = 0.02389763854444027, Training Accuracy : 43.172\n"
     ]
    },
    {
     "name": "stderr",
     "output_type": "stream",
     "text": [
      "100%|████████████████████████████████████████████████████████████████████████████████| 157/157 [00:03<00:00, 48.61it/s]\n",
      "  0%|▏                                                                                 | 2/782 [00:00<00:46, 16.66it/s]"
     ]
    },
    {
     "name": "stdout",
     "output_type": "stream",
     "text": [
      " Test loss = 1.2611572410583496, Test Accuracy : 52.6\n",
      "2 / 20\n"
     ]
    },
    {
     "name": "stderr",
     "output_type": "stream",
     "text": [
      "100%|████████████████████████████████████████████████████████████████████████████████| 782/782 [00:43<00:00, 18.08it/s]\n",
      "  3%|██▌                                                                               | 5/157 [00:00<00:03, 47.63it/s]"
     ]
    },
    {
     "name": "stdout",
     "output_type": "stream",
     "text": [
      " Training loss = 0.01889234595000744, Training Accuracy : 56.13\n"
     ]
    },
    {
     "name": "stderr",
     "output_type": "stream",
     "text": [
      "100%|████████████████████████████████████████████████████████████████████████████████| 157/157 [00:03<00:00, 48.71it/s]\n",
      "  0%|▏                                                                                 | 2/782 [00:00<00:46, 16.94it/s]"
     ]
    },
    {
     "name": "stdout",
     "output_type": "stream",
     "text": [
      " Test loss = 1.0848336503982543, Test Accuracy : 61.44\n",
      "3 / 20\n"
     ]
    },
    {
     "name": "stderr",
     "output_type": "stream",
     "text": [
      "100%|████████████████████████████████████████████████████████████████████████████████| 782/782 [00:43<00:00, 18.17it/s]\n",
      "  3%|██▌                                                                               | 5/157 [00:00<00:03, 47.15it/s]"
     ]
    },
    {
     "name": "stdout",
     "output_type": "stream",
     "text": [
      " Training loss = 0.01622775010764599, Training Accuracy : 63.088\n"
     ]
    },
    {
     "name": "stderr",
     "output_type": "stream",
     "text": [
      "100%|████████████████████████████████████████████████████████████████████████████████| 157/157 [00:03<00:00, 48.30it/s]\n",
      "  0%|▏                                                                                 | 2/782 [00:00<00:47, 16.26it/s]"
     ]
    },
    {
     "name": "stdout",
     "output_type": "stream",
     "text": [
      " Test loss = 0.9177829913139344, Test Accuracy : 68.38\n",
      "4 / 20\n"
     ]
    },
    {
     "name": "stderr",
     "output_type": "stream",
     "text": [
      "100%|████████████████████████████████████████████████████████████████████████████████| 782/782 [00:43<00:00, 18.16it/s]\n",
      "  3%|██▌                                                                               | 5/157 [00:00<00:03, 47.17it/s]"
     ]
    },
    {
     "name": "stdout",
     "output_type": "stream",
     "text": [
      " Training loss = 0.01434291061013937, Training Accuracy : 67.774\n"
     ]
    },
    {
     "name": "stderr",
     "output_type": "stream",
     "text": [
      "100%|████████████████████████████████████████████████████████████████████████████████| 157/157 [00:03<00:00, 48.41it/s]\n",
      "  0%|▏                                                                                 | 2/782 [00:00<00:48, 16.03it/s]"
     ]
    },
    {
     "name": "stdout",
     "output_type": "stream",
     "text": [
      " Test loss = 0.8789059947013855, Test Accuracy : 68.54\n",
      "5 / 20\n"
     ]
    },
    {
     "name": "stderr",
     "output_type": "stream",
     "text": [
      "100%|████████████████████████████████████████████████████████████████████████████████| 782/782 [00:43<00:00, 17.90it/s]\n",
      "  3%|██▌                                                                               | 5/157 [00:00<00:03, 45.03it/s]"
     ]
    },
    {
     "name": "stdout",
     "output_type": "stream",
     "text": [
      " Training loss = 0.012857763096690178, Training Accuracy : 71.386\n"
     ]
    },
    {
     "name": "stderr",
     "output_type": "stream",
     "text": [
      "100%|████████████████████████████████████████████████████████████████████████████████| 157/157 [00:03<00:00, 46.89it/s]\n",
      "  0%|▏                                                                                 | 2/782 [00:00<00:47, 16.27it/s]"
     ]
    },
    {
     "name": "stdout",
     "output_type": "stream",
     "text": [
      " Test loss = 0.7301880995750427, Test Accuracy : 74.04\n",
      "6 / 20\n"
     ]
    },
    {
     "name": "stderr",
     "output_type": "stream",
     "text": [
      "100%|████████████████████████████████████████████████████████████████████████████████| 782/782 [00:43<00:00, 18.05it/s]\n",
      "  3%|██▌                                                                               | 5/157 [00:00<00:03, 48.06it/s]"
     ]
    },
    {
     "name": "stdout",
     "output_type": "stream",
     "text": [
      " Training loss = 0.01171113457530737, Training Accuracy : 73.942\n"
     ]
    },
    {
     "name": "stderr",
     "output_type": "stream",
     "text": [
      "100%|████████████████████████████████████████████████████████████████████████████████| 157/157 [00:03<00:00, 48.53it/s]\n",
      "  0%|▏                                                                                 | 2/782 [00:00<00:43, 17.77it/s]"
     ]
    },
    {
     "name": "stdout",
     "output_type": "stream",
     "text": [
      " Test loss = 0.6748990669727325, Test Accuracy : 76.69\n",
      "7 / 20\n"
     ]
    },
    {
     "name": "stderr",
     "output_type": "stream",
     "text": [
      "100%|████████████████████████████████████████████████████████████████████████████████| 782/782 [00:43<00:00, 18.18it/s]\n",
      "  3%|██▌                                                                               | 5/157 [00:00<00:03, 47.71it/s]"
     ]
    },
    {
     "name": "stdout",
     "output_type": "stream",
     "text": [
      " Training loss = 0.010937360115349293, Training Accuracy : 75.67\n"
     ]
    },
    {
     "name": "stderr",
     "output_type": "stream",
     "text": [
      "100%|████████████████████████████████████████████████████████████████████████████████| 157/157 [00:03<00:00, 48.83it/s]\n",
      "  0%|▏                                                                                 | 2/782 [00:00<00:47, 16.27it/s]"
     ]
    },
    {
     "name": "stdout",
     "output_type": "stream",
     "text": [
      " Test loss = 0.6640234734535218, Test Accuracy : 76.44\n",
      "8 / 20\n"
     ]
    },
    {
     "name": "stderr",
     "output_type": "stream",
     "text": [
      "100%|████████████████████████████████████████████████████████████████████████████████| 782/782 [00:43<00:00, 18.08it/s]\n",
      "  6%|█████▏                                                                           | 10/157 [00:00<00:03, 47.57it/s]"
     ]
    },
    {
     "name": "stdout",
     "output_type": "stream",
     "text": [
      " Training loss = 0.010157176293432713, Training Accuracy : 77.686\n"
     ]
    },
    {
     "name": "stderr",
     "output_type": "stream",
     "text": [
      "100%|████████████████████████████████████████████████████████████████████████████████| 157/157 [00:03<00:00, 47.30it/s]\n",
      "  0%|▏                                                                                 | 2/782 [00:00<00:48, 16.19it/s]"
     ]
    },
    {
     "name": "stdout",
     "output_type": "stream",
     "text": [
      " Test loss = 0.6009798821449279, Test Accuracy : 79.47\n",
      "9 / 20\n"
     ]
    },
    {
     "name": "stderr",
     "output_type": "stream",
     "text": [
      "100%|████████████████████████████████████████████████████████████████████████████████| 782/782 [00:42<00:00, 18.27it/s]\n",
      "  3%|██▌                                                                               | 5/157 [00:00<00:03, 46.49it/s]"
     ]
    },
    {
     "name": "stdout",
     "output_type": "stream",
     "text": [
      " Training loss = 0.009655498899519444, Training Accuracy : 78.732\n"
     ]
    },
    {
     "name": "stderr",
     "output_type": "stream",
     "text": [
      "100%|████████████████████████████████████████████████████████████████████████████████| 157/157 [00:03<00:00, 47.90it/s]\n",
      "  0%|▏                                                                                 | 2/782 [00:00<00:45, 17.09it/s]"
     ]
    },
    {
     "name": "stdout",
     "output_type": "stream",
     "text": [
      " Test loss = 0.560492667722702, Test Accuracy : 80.73\n",
      "10 / 20\n"
     ]
    },
    {
     "name": "stderr",
     "output_type": "stream",
     "text": [
      "100%|████████████████████████████████████████████████████████████████████████████████| 782/782 [00:43<00:00, 17.93it/s]\n",
      "  3%|██▌                                                                               | 5/157 [00:00<00:03, 47.17it/s]"
     ]
    },
    {
     "name": "stdout",
     "output_type": "stream",
     "text": [
      " Training loss = 0.009145528078079224, Training Accuracy : 79.884\n"
     ]
    },
    {
     "name": "stderr",
     "output_type": "stream",
     "text": [
      "100%|████████████████████████████████████████████████████████████████████████████████| 157/157 [00:03<00:00, 47.28it/s]\n",
      "  0%|▏                                                                                 | 2/782 [00:00<00:45, 17.15it/s]"
     ]
    },
    {
     "name": "stdout",
     "output_type": "stream",
     "text": [
      " Test loss = 0.5339583250999451, Test Accuracy : 81.97\n",
      "11 / 20\n"
     ]
    },
    {
     "name": "stderr",
     "output_type": "stream",
     "text": [
      "100%|████████████████████████████████████████████████████████████████████████████████| 782/782 [00:43<00:00, 17.95it/s]\n",
      "  3%|██▌                                                                               | 5/157 [00:00<00:03, 47.17it/s]"
     ]
    },
    {
     "name": "stdout",
     "output_type": "stream",
     "text": [
      " Training loss = 0.008711789734661579, Training Accuracy : 80.826\n"
     ]
    },
    {
     "name": "stderr",
     "output_type": "stream",
     "text": [
      "100%|████████████████████████████████████████████████████████████████████████████████| 157/157 [00:03<00:00, 47.24it/s]\n",
      "  0%|▏                                                                                 | 2/782 [00:00<00:46, 16.67it/s]"
     ]
    },
    {
     "name": "stdout",
     "output_type": "stream",
     "text": [
      " Test loss = 0.546342729139328, Test Accuracy : 81.34\n",
      "12 / 20\n"
     ]
    },
    {
     "name": "stderr",
     "output_type": "stream",
     "text": [
      "100%|████████████████████████████████████████████████████████████████████████████████| 782/782 [00:43<00:00, 18.07it/s]\n",
      "  3%|██▌                                                                               | 5/157 [00:00<00:03, 47.62it/s]"
     ]
    },
    {
     "name": "stdout",
     "output_type": "stream",
     "text": [
      " Training loss = 0.008195856586098671, Training Accuracy : 81.784\n"
     ]
    },
    {
     "name": "stderr",
     "output_type": "stream",
     "text": [
      "100%|████████████████████████████████████████████████████████████████████████████████| 157/157 [00:03<00:00, 48.14it/s]\n",
      "  0%|▏                                                                                 | 2/782 [00:00<00:45, 17.09it/s]"
     ]
    },
    {
     "name": "stdout",
     "output_type": "stream",
     "text": [
      " Test loss = 0.5043105212688446, Test Accuracy : 82.75\n",
      "13 / 20\n"
     ]
    },
    {
     "name": "stderr",
     "output_type": "stream",
     "text": [
      "100%|████████████████████████████████████████████████████████████████████████████████| 782/782 [00:43<00:00, 18.16it/s]\n",
      "  3%|██▌                                                                               | 5/157 [00:00<00:03, 48.08it/s]"
     ]
    },
    {
     "name": "stdout",
     "output_type": "stream",
     "text": [
      " Training loss = 0.007888803258538246, Training Accuracy : 82.578\n"
     ]
    },
    {
     "name": "stderr",
     "output_type": "stream",
     "text": [
      "100%|████████████████████████████████████████████████████████████████████████████████| 157/157 [00:03<00:00, 47.97it/s]\n",
      "  0%|▏                                                                                 | 2/782 [00:00<00:47, 16.42it/s]"
     ]
    },
    {
     "name": "stdout",
     "output_type": "stream",
     "text": [
      " Test loss = 0.4672022196292877, Test Accuracy : 84.36\n",
      "14 / 20\n"
     ]
    },
    {
     "name": "stderr",
     "output_type": "stream",
     "text": [
      "100%|████████████████████████████████████████████████████████████████████████████████| 782/782 [00:43<00:00, 18.14it/s]\n",
      "  6%|█████▏                                                                           | 10/157 [00:00<00:03, 47.67it/s]"
     ]
    },
    {
     "name": "stdout",
     "output_type": "stream",
     "text": [
      " Training loss = 0.007486620917916298, Training Accuracy : 83.524\n"
     ]
    },
    {
     "name": "stderr",
     "output_type": "stream",
     "text": [
      "100%|████████████████████████████████████████████████████████████████████████████████| 157/157 [00:03<00:00, 48.27it/s]\n",
      "  0%|▏                                                                                 | 2/782 [00:00<00:46, 16.95it/s]"
     ]
    },
    {
     "name": "stdout",
     "output_type": "stream",
     "text": [
      " Test loss = 0.4359169692516327, Test Accuracy : 85.22\n",
      "15 / 20\n"
     ]
    },
    {
     "name": "stderr",
     "output_type": "stream",
     "text": [
      "100%|████████████████████████████████████████████████████████████████████████████████| 782/782 [00:43<00:00, 18.17it/s]\n",
      "  6%|█████▏                                                                           | 10/157 [00:00<00:03, 48.35it/s]"
     ]
    },
    {
     "name": "stdout",
     "output_type": "stream",
     "text": [
      " Training loss = 0.007068364880979061, Training Accuracy : 84.232\n"
     ]
    },
    {
     "name": "stderr",
     "output_type": "stream",
     "text": [
      "100%|████████████████████████████████████████████████████████████████████████████████| 157/157 [00:03<00:00, 48.84it/s]\n",
      "  0%|▏                                                                                 | 2/782 [00:00<00:44, 17.59it/s]"
     ]
    },
    {
     "name": "stdout",
     "output_type": "stream",
     "text": [
      " Test loss = 0.422551263666153, Test Accuracy : 85.5\n",
      "16 / 20\n"
     ]
    },
    {
     "name": "stderr",
     "output_type": "stream",
     "text": [
      "100%|████████████████████████████████████████████████████████████████████████████████| 782/782 [00:43<00:00, 18.18it/s]\n",
      "  3%|██▌                                                                               | 5/157 [00:00<00:03, 48.28it/s]"
     ]
    },
    {
     "name": "stdout",
     "output_type": "stream",
     "text": [
      " Training loss = 0.0066112191416323185, Training Accuracy : 85.384\n"
     ]
    },
    {
     "name": "stderr",
     "output_type": "stream",
     "text": [
      "100%|████████████████████████████████████████████████████████████████████████████████| 157/157 [00:03<00:00, 47.75it/s]\n",
      "  0%|▏                                                                                 | 2/782 [00:00<00:45, 17.30it/s]"
     ]
    },
    {
     "name": "stdout",
     "output_type": "stream",
     "text": [
      " Test loss = 0.4349297370433807, Test Accuracy : 84.9\n",
      "17 / 20\n"
     ]
    },
    {
     "name": "stderr",
     "output_type": "stream",
     "text": [
      "100%|████████████████████████████████████████████████████████████████████████████████| 782/782 [00:43<00:00, 18.13it/s]\n",
      "  3%|██▌                                                                               | 5/157 [00:00<00:03, 45.86it/s]"
     ]
    },
    {
     "name": "stdout",
     "output_type": "stream",
     "text": [
      " Training loss = 0.0062159826047718525, Training Accuracy : 86.276\n"
     ]
    },
    {
     "name": "stderr",
     "output_type": "stream",
     "text": [
      "100%|████████████████████████████████████████████████████████████████████████████████| 157/157 [00:03<00:00, 48.34it/s]\n",
      "  0%|▏                                                                                 | 2/782 [00:00<00:45, 17.02it/s]"
     ]
    },
    {
     "name": "stdout",
     "output_type": "stream",
     "text": [
      " Test loss = 0.3984369943141937, Test Accuracy : 86.06\n",
      "18 / 20\n"
     ]
    },
    {
     "name": "stderr",
     "output_type": "stream",
     "text": [
      "100%|████████████████████████████████████████████████████████████████████████████████| 782/782 [00:43<00:00, 18.11it/s]\n",
      "  3%|██▌                                                                               | 5/157 [00:00<00:03, 47.75it/s]"
     ]
    },
    {
     "name": "stdout",
     "output_type": "stream",
     "text": [
      " Training loss = 0.005832388065755367, Training Accuracy : 86.956\n"
     ]
    },
    {
     "name": "stderr",
     "output_type": "stream",
     "text": [
      "100%|████████████████████████████████████████████████████████████████████████████████| 157/157 [00:03<00:00, 48.51it/s]\n",
      "  0%|▏                                                                                 | 2/782 [00:00<00:44, 17.41it/s]"
     ]
    },
    {
     "name": "stdout",
     "output_type": "stream",
     "text": [
      " Test loss = 0.39252615661621093, Test Accuracy : 86.27\n",
      "19 / 20\n"
     ]
    },
    {
     "name": "stderr",
     "output_type": "stream",
     "text": [
      "100%|████████████████████████████████████████████████████████████████████████████████| 782/782 [00:43<00:00, 18.17it/s]\n",
      "  3%|██▌                                                                               | 5/157 [00:00<00:03, 45.09it/s]"
     ]
    },
    {
     "name": "stdout",
     "output_type": "stream",
     "text": [
      " Training loss = 0.005580067168921232, Training Accuracy : 87.658\n"
     ]
    },
    {
     "name": "stderr",
     "output_type": "stream",
     "text": [
      "100%|████████████████████████████████████████████████████████████████████████████████| 157/157 [00:03<00:00, 48.20it/s]\n",
      "  0%|▏                                                                                 | 2/782 [00:00<00:49, 15.86it/s]"
     ]
    },
    {
     "name": "stdout",
     "output_type": "stream",
     "text": [
      " Test loss = 0.37783566703796384, Test Accuracy : 86.88\n",
      "20 / 20\n"
     ]
    },
    {
     "name": "stderr",
     "output_type": "stream",
     "text": [
      "100%|████████████████████████████████████████████████████████████████████████████████| 782/782 [00:43<00:00, 18.15it/s]\n",
      "  3%|██▌                                                                               | 5/157 [00:00<00:03, 47.60it/s]"
     ]
    },
    {
     "name": "stdout",
     "output_type": "stream",
     "text": [
      " Training loss = 0.005511092487722635, Training Accuracy : 87.892\n"
     ]
    },
    {
     "name": "stderr",
     "output_type": "stream",
     "text": [
      "100%|████████████████████████████████████████████████████████████████████████████████| 157/157 [00:03<00:00, 48.17it/s]"
     ]
    },
    {
     "name": "stdout",
     "output_type": "stream",
     "text": [
      " Test loss = 0.3805841469287872, Test Accuracy : 86.86\n",
      "Done!\n"
     ]
    },
    {
     "name": "stderr",
     "output_type": "stream",
     "text": [
      "\n"
     ]
    }
   ],
   "source": [
    "quiz_run = model.Trial(\n",
    "    name=\"quiz_run\",\n",
    "    model=qnet,\n",
    "    args={\n",
    "        \"epochs\": config.EPOCH,\n",
    "        \"train_loader\": train_loader,\n",
    "        \"test_loader\": test_loader,\n",
    "        \"optimizer\": optimizer,\n",
    "        \"device\": config.DEVICE,\n",
    "        \"loss_fn\": criterion,\n",
    "        \"scheduler\": scheduler\n",
    "    },\n",
    ")\n",
    "\n",
    "quiz_run.run()\n",
    "print(\"Done!\")"
   ]
  },
  {
   "cell_type": "code",
   "execution_count": null,
   "metadata": {},
   "outputs": [],
   "source": []
  },
  {
   "cell_type": "code",
   "execution_count": null,
   "metadata": {},
   "outputs": [],
   "source": []
  },
  {
   "cell_type": "code",
   "execution_count": null,
   "metadata": {},
   "outputs": [],
   "source": []
  }
 ],
 "metadata": {
  "kernelspec": {
   "display_name": "Python 3",
   "language": "python",
   "name": "python3"
  },
  "language_info": {
   "codemirror_mode": {
    "name": "ipython",
    "version": 3
   },
   "file_extension": ".py",
   "mimetype": "text/x-python",
   "name": "python",
   "nbconvert_exporter": "python",
   "pygments_lexer": "ipython3",
   "version": "3.7.3"
  }
 },
 "nbformat": 4,
 "nbformat_minor": 2
}
